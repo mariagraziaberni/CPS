{
 "cells": [
  {
   "cell_type": "code",
   "execution_count": 1,
   "metadata": {},
   "outputs": [],
   "source": [
    "import numpy as np\n",
    "import matplotlib.pyplot as plt\n",
    "from scipy import ndimage\n",
    "import numpy as np\n",
    "import matplotlib.pyplot as plt \n",
    "import torch as T \n",
    "import torch.nn as nn \n",
    "import torch.nn.functional as F \n",
    "import torch.optim as optim \n",
    "import os \n",
    "from utility import *\n"
   ]
  },
  {
   "cell_type": "code",
   "execution_count": null,
   "metadata": {},
   "outputs": [],
   "source": []
  },
  {
   "cell_type": "code",
   "execution_count": 2,
   "metadata": {},
   "outputs": [],
   "source": [
    "from agent import *"
   ]
  },
  {
   "cell_type": "code",
   "execution_count": 5,
   "metadata": {},
   "outputs": [],
   "source": [
    "class State(): \n",
    "    \n",
    "    def __init__(self,x_, y_, theta_): \n",
    "        \n",
    "        if not (x_ is None or y_ is None or theta_ is None ):    #non ricordo perchè avevo messo questo \n",
    "            \n",
    "            self.x = x_ \n",
    "            self.y = y_ \n",
    "            self.theta = theta_ \n",
    "            \n",
    "        else : \n",
    "            \n",
    "            self.x = 0 \n",
    "            self.y= 0\n",
    "            self.theta= 0\n",
    "            \n",
    "    def __str__(self): \n",
    "        return str(self.x)+\",\"+str(self.y)+\",\"+str(self.theta)\n",
    "        \n",
    "            "
   ]
  },
  {
   "cell_type": "code",
   "execution_count": 20,
   "metadata": {},
   "outputs": [],
   "source": [
    "class Controller(): \n",
    "    \n",
    "    def __init__(self, goal, start, R_=0.0325,L_=0.1,dT=0.1,v_=1,arrive_distance=0.3): \n",
    "        \n",
    "        self.R = R_ \n",
    "        \n",
    "        self.L = L_ \n",
    "        \n",
    "        self.E = 0   #cumulative error for integration \n",
    "        \n",
    "        self.old_e = 0\n",
    "        \n",
    "        self.v = v_\n",
    "        \n",
    "        self.dt = dT \n",
    "        \n",
    "        self.arrive_distance = arrive_distance \n",
    "        \n",
    "        self.goal = goal \n",
    "        \n",
    "        self.current_position = start \n",
    "        \n",
    "        self.route_x = [] \n",
    "        \n",
    "        self.route_y = [] \n",
    "        \n",
    "        self.route_theta = [] \n",
    "        \n",
    "    def track_route(self): \n",
    "        \n",
    "        self.route_x.append(self.current_position.x)\n",
    "        \n",
    "        self.route_y.append(self.current_position.y)\n",
    "        \n",
    "        self.route_theta.append(self.current_position.theta)\n",
    "        \n",
    "    def give_route(self): \n",
    "        \n",
    "        return self.route_x, self.route_y, self.route_theta\n",
    "    \n",
    "    def fixAngle(self, angle):\n",
    "            \n",
    "        return np.arctan2(np.sin(angle), np.cos(angle))\n",
    "    \n",
    "    \n",
    "    def iterate(self): \n",
    "        \n",
    "        dx = self.goal.x - self.current_position.x \n",
    "        \n",
    "        dy = self.goal.y -self.current_position.y \n",
    "        \n",
    "        \n",
    "        g_theta = np.arctan2(dy, dx)\n",
    "        \n",
    "        alpha = g_theta - self.current_position.theta\n",
    "        \n",
    "        \n",
    "        e = np.arctan2(np.sin(alpha), np.cos(alpha))\n",
    "        \n",
    "        \n",
    "        e_p = e\n",
    "        \n",
    "        e_I = self.E + e \n",
    "        \n",
    "        e_D = e -self.old_e \n",
    "        \n",
    "        self.E = self.E + e\n",
    "        \n",
    "        self.old_e = e\n",
    "        \n",
    "        a =np.array([e_p,e_I,e_D])\n",
    "        \n",
    "        return a \n",
    "    \n",
    "    \n",
    "    def iterate_with_gains(self,k,ki,kd): \n",
    "        \n",
    "        dx = self.goal.x - self.current_position.x  \n",
    "        \n",
    "        dy = self.goal.y -self.current_position.y   \n",
    "   \n",
    "        g_theta = np.arctan2(dy, dx)\n",
    "        \n",
    "    \n",
    "        alpha = g_theta - self.current_position.theta\n",
    "   \n",
    "        e = np.arctan2(np.sin(alpha), np.cos(alpha))\n",
    "\n",
    "        e_p = e \n",
    "        \n",
    "        e_I = self.E + e \n",
    "        \n",
    "        e_D = e -self.old_e \n",
    "        \n",
    "        self.E = self.E + e\n",
    "        \n",
    "        self.old_e = e\n",
    "        \n",
    "        w = k*e_p + ki*e_I + kd*e_D\n",
    "        \n",
    "        #w = np.arctan2(np.sin(w), np.cos(w))\n",
    "        \n",
    "        return w\n",
    "    \n",
    "    def make_action(self, w):\n",
    "      \n",
    "        x_dt = self.v*np.cos(self.current_position.theta)     #process model ,magari dovuto ad attrito etc \n",
    "        \n",
    "        y_dt = self.v*np.sin(self.current_position.theta)\n",
    "        \n",
    "        #theta_dt = w\n",
    "        \n",
    "        a = self.current_position.x + x_dt * self.dt\n",
    "        \n",
    "        b = self.current_position.y + y_dt * self.dt\n",
    "        \n",
    "       # if (a >=30 or a<=-30) or (b >=30 or b<=-30):\n",
    "            \n",
    "          #  return \n",
    "        \n",
    "\n",
    "        self.current_position.x = self.current_position.x + x_dt * self.dt\n",
    "        \n",
    "        self.current_position.y = self.current_position.y + y_dt * self.dt\n",
    "        \n",
    "        theta_dt = w\n",
    "        self.current_position.theta = (self.fixAngle(\n",
    "            self.current_position.theta + self.fixAngle(theta_dt * self.dt))).squeeze(-1)\n",
    "       \n",
    "        \n",
    "        return\n",
    "    \n",
    "    \n",
    "        \n",
    "    \n",
    "    def isArrived(self):\n",
    "        \n",
    "        current_state = np.array([self.current_position.x, self.current_position.y])\n",
    "        goal_state = np.array([self.goal.x, self.goal.y])\n",
    "        \n",
    "        difference = current_state - goal_state\n",
    "\n",
    "        distance_err = difference @ difference.T\n",
    "        if distance_err < self.arrive_distance:\n",
    "        \n",
    "            return True\n",
    "        else:\n",
    "            return False\n",
    "        \n",
    "    \n",
    "    \n",
    "    \n",
    "        \n",
    "        \n",
    "    \n",
    "\n",
    "    \n",
    "    \n",
    "        \n",
    "        \n",
    "        \n",
    "        \n",
    "        "
   ]
  },
  {
   "cell_type": "code",
   "execution_count": 21,
   "metadata": {},
   "outputs": [],
   "source": [
    "spatial_state = State(-25,20,np.radians(90))"
   ]
  },
  {
   "cell_type": "code",
   "execution_count": 22,
   "metadata": {},
   "outputs": [],
   "source": [
    "target = State(20,-20,0)"
   ]
  },
  {
   "cell_type": "code",
   "execution_count": 23,
   "metadata": {},
   "outputs": [],
   "source": [
    "controller = Controller(target,spatial_state)"
   ]
  },
  {
   "cell_type": "code",
   "execution_count": 24,
   "metadata": {},
   "outputs": [],
   "source": [
    "error_state = controller.iterate()"
   ]
  },
  {
   "cell_type": "code",
   "execution_count": 25,
   "metadata": {},
   "outputs": [
    {
     "name": "stdout",
     "output_type": "stream",
     "text": [
      "cpu\n"
     ]
    }
   ],
   "source": [
    "agent = Agent(error_state.shape[0],chkpt_dir = \"slow_model\",device='cpu')"
   ]
  },
  {
   "cell_type": "code",
   "execution_count": 14,
   "metadata": {},
   "outputs": [],
   "source": [
    "EPISODES = 8000\n",
    "best_score = -111000\n",
    "score_history = [] \n",
    "expl_noise = 0.25"
   ]
  },
  {
   "cell_type": "code",
   "execution_count": 15,
   "metadata": {},
   "outputs": [],
   "source": [
    "np.random.seed(15)"
   ]
  },
  {
   "cell_type": "code",
   "execution_count": 16,
   "metadata": {},
   "outputs": [],
   "source": [
    "test = False"
   ]
  },
  {
   "cell_type": "code",
   "execution_count": 17,
   "metadata": {},
   "outputs": [
    {
     "name": "stdout",
     "output_type": "stream",
     "text": [
      "insuccesso\n",
      "...saving...\n",
      "...saving...\n",
      "...saving...\n",
      "...saving...\n",
      "...saving...\n",
      "...saving...\n",
      "Results during training procedure:\n",
      "episode  0 score -6192.2 average score -6192.2\n",
      "End of warmup\n",
      "insuccesso\n",
      "...saving...\n",
      "...saving...\n",
      "...saving...\n",
      "...saving...\n",
      "...saving...\n",
      "...saving...\n",
      "successo\n",
      "...saving...\n",
      "...saving...\n",
      "...saving...\n",
      "...saving...\n",
      "...saving...\n",
      "...saving...\n",
      "successo\n",
      "...saving...\n",
      "...saving...\n",
      "...saving...\n",
      "...saving...\n",
      "...saving...\n",
      "...saving...\n",
      "successo\n",
      "...saving...\n",
      "...saving...\n",
      "...saving...\n",
      "...saving...\n",
      "...saving...\n",
      "...saving...\n",
      "successo\n",
      "...saving...\n",
      "...saving...\n",
      "...saving...\n",
      "...saving...\n",
      "...saving...\n",
      "...saving...\n",
      "successo\n",
      "...saving...\n",
      "...saving...\n",
      "...saving...\n",
      "...saving...\n",
      "...saving...\n",
      "...saving...\n",
      "successo\n",
      "...saving...\n",
      "...saving...\n",
      "...saving...\n",
      "...saving...\n",
      "...saving...\n",
      "...saving...\n",
      "successo\n",
      "...saving...\n",
      "...saving...\n",
      "...saving...\n",
      "...saving...\n",
      "...saving...\n",
      "...saving...\n",
      "successo\n",
      "...saving...\n",
      "...saving...\n",
      "...saving...\n",
      "...saving...\n",
      "...saving...\n",
      "...saving...\n",
      "successo\n",
      "...saving...\n",
      "...saving...\n",
      "...saving...\n",
      "...saving...\n",
      "...saving...\n",
      "...saving...\n",
      "Results during training procedure:\n",
      "episode  10 score 193.0 average score -521.1\n",
      "successo\n",
      "...saving...\n",
      "...saving...\n",
      "...saving...\n",
      "...saving...\n",
      "...saving...\n",
      "...saving...\n",
      "successo\n",
      "...saving...\n",
      "...saving...\n",
      "...saving...\n",
      "...saving...\n",
      "...saving...\n",
      "...saving...\n",
      "successo\n",
      "...saving...\n",
      "...saving...\n",
      "...saving...\n",
      "...saving...\n",
      "...saving...\n",
      "...saving...\n",
      "successo\n",
      "...saving...\n",
      "...saving...\n",
      "...saving...\n",
      "...saving...\n",
      "...saving...\n",
      "...saving...\n",
      "successo\n",
      "...saving...\n",
      "...saving...\n",
      "...saving...\n",
      "...saving...\n",
      "...saving...\n",
      "...saving...\n",
      "successo\n",
      "...saving...\n",
      "...saving...\n",
      "...saving...\n",
      "...saving...\n",
      "...saving...\n",
      "...saving...\n",
      "successo\n",
      "...saving...\n",
      "...saving...\n",
      "...saving...\n",
      "...saving...\n",
      "...saving...\n",
      "...saving...\n",
      "successo\n",
      "...saving...\n",
      "...saving...\n",
      "...saving...\n",
      "...saving...\n",
      "...saving...\n",
      "...saving...\n",
      "successo\n",
      "...saving...\n",
      "...saving...\n",
      "...saving...\n",
      "...saving...\n",
      "...saving...\n",
      "...saving...\n",
      "successo\n",
      "...saving...\n",
      "...saving...\n",
      "...saving...\n",
      "...saving...\n",
      "...saving...\n",
      "...saving...\n",
      "Results during training procedure:\n",
      "episode  20 score 190.6 average score -185.3\n",
      "successo\n",
      "...saving...\n",
      "...saving...\n",
      "...saving...\n",
      "...saving...\n",
      "...saving...\n",
      "...saving...\n",
      "successo\n",
      "...saving...\n",
      "...saving...\n",
      "...saving...\n",
      "...saving...\n",
      "...saving...\n",
      "...saving...\n",
      "successo\n",
      "...saving...\n",
      "...saving...\n",
      "...saving...\n",
      "...saving...\n",
      "...saving...\n",
      "...saving...\n",
      "successo\n",
      "...saving...\n",
      "...saving...\n",
      "...saving...\n",
      "...saving...\n",
      "...saving...\n",
      "...saving...\n",
      "successo\n",
      "...saving...\n",
      "...saving...\n",
      "...saving...\n",
      "...saving...\n",
      "...saving...\n",
      "...saving...\n",
      "successo\n",
      "...saving...\n",
      "...saving...\n",
      "...saving...\n",
      "...saving...\n",
      "...saving...\n",
      "...saving...\n",
      "successo\n",
      "...saving...\n",
      "...saving...\n",
      "...saving...\n",
      "...saving...\n",
      "...saving...\n",
      "...saving...\n",
      "successo\n",
      "...saving...\n",
      "...saving...\n",
      "...saving...\n",
      "...saving...\n",
      "...saving...\n",
      "...saving...\n",
      "successo\n",
      "...saving...\n",
      "...saving...\n",
      "...saving...\n",
      "...saving...\n",
      "...saving...\n",
      "...saving...\n",
      "successo\n",
      "...saving...\n",
      "...saving...\n",
      "...saving...\n",
      "...saving...\n",
      "...saving...\n",
      "...saving...\n",
      "Results during training procedure:\n",
      "episode  30 score 197.9 average score -63.4\n",
      "successo\n",
      "...saving...\n",
      "...saving...\n",
      "...saving...\n",
      "...saving...\n",
      "...saving...\n",
      "...saving...\n",
      "successo\n",
      "...saving...\n",
      "...saving...\n",
      "...saving...\n",
      "...saving...\n",
      "...saving...\n",
      "...saving...\n",
      "successo\n",
      "...saving...\n",
      "...saving...\n",
      "...saving...\n",
      "...saving...\n",
      "...saving...\n",
      "...saving...\n",
      "successo\n",
      "...saving...\n",
      "...saving...\n",
      "...saving...\n",
      "...saving...\n",
      "...saving...\n",
      "...saving...\n",
      "successo\n",
      "...saving...\n",
      "...saving...\n",
      "...saving...\n",
      "...saving...\n",
      "...saving...\n",
      "...saving...\n",
      "36\r"
     ]
    },
    {
     "ename": "KeyboardInterrupt",
     "evalue": "",
     "output_type": "error",
     "traceback": [
      "\u001b[0;31m---------------------------------------------------------------------------\u001b[0m",
      "\u001b[0;31mKeyboardInterrupt\u001b[0m                         Traceback (most recent call last)",
      "\u001b[0;32m<ipython-input-17-f07bc3720169>\u001b[0m in \u001b[0;36m<module>\u001b[0;34m\u001b[0m\n\u001b[1;32m     68\u001b[0m         \u001b[0merror_state\u001b[0m \u001b[0;34m=\u001b[0m \u001b[0mnew_error_state\u001b[0m\u001b[0;34m\u001b[0m\u001b[0;34m\u001b[0m\u001b[0m\n\u001b[1;32m     69\u001b[0m         \u001b[0;32mif\u001b[0m \u001b[0;32mnot\u001b[0m \u001b[0mtest\u001b[0m\u001b[0;34m:\u001b[0m\u001b[0;34m\u001b[0m\u001b[0;34m\u001b[0m\u001b[0m\n\u001b[0;32m---> 70\u001b[0;31m             \u001b[0magent\u001b[0m\u001b[0;34m.\u001b[0m\u001b[0mtrain\u001b[0m\u001b[0;34m(\u001b[0m\u001b[0;34m)\u001b[0m\u001b[0;34m\u001b[0m\u001b[0;34m\u001b[0m\u001b[0m\n\u001b[0m\u001b[1;32m     71\u001b[0m \u001b[0;34m\u001b[0m\u001b[0m\n\u001b[1;32m     72\u001b[0m         \u001b[0mscore\u001b[0m \u001b[0;34m+=\u001b[0m \u001b[0mreward\u001b[0m\u001b[0;34m\u001b[0m\u001b[0;34m\u001b[0m\u001b[0m\n",
      "\u001b[0;32m~/Documenti/Università/CPS/agent.py\u001b[0m in \u001b[0;36mtrain\u001b[0;34m(self)\u001b[0m\n\u001b[1;32m    428\u001b[0m         \u001b[0mQ_tc2\u001b[0m \u001b[0;34m=\u001b[0m \u001b[0mself\u001b[0m\u001b[0;34m.\u001b[0m\u001b[0mtarget_critic_2\u001b[0m\u001b[0;34m.\u001b[0m\u001b[0mforward\u001b[0m\u001b[0;34m(\u001b[0m\u001b[0mstate_\u001b[0m\u001b[0;34m,\u001b[0m\u001b[0mtarget_actions\u001b[0m\u001b[0;34m)\u001b[0m\u001b[0;34m\u001b[0m\u001b[0;34m\u001b[0m\u001b[0m\n\u001b[1;32m    429\u001b[0m \u001b[0;34m\u001b[0m\u001b[0m\n\u001b[0;32m--> 430\u001b[0;31m         \u001b[0mQ1\u001b[0m \u001b[0;34m=\u001b[0m \u001b[0mself\u001b[0m\u001b[0;34m.\u001b[0m\u001b[0mcritic_1\u001b[0m\u001b[0;34m.\u001b[0m\u001b[0mforward\u001b[0m\u001b[0;34m(\u001b[0m\u001b[0mstate\u001b[0m\u001b[0;34m,\u001b[0m\u001b[0maction\u001b[0m\u001b[0;34m)\u001b[0m\u001b[0;34m\u001b[0m\u001b[0;34m\u001b[0m\u001b[0m\n\u001b[0m\u001b[1;32m    431\u001b[0m \u001b[0;34m\u001b[0m\u001b[0m\n\u001b[1;32m    432\u001b[0m         \u001b[0mQ2\u001b[0m \u001b[0;34m=\u001b[0m \u001b[0mself\u001b[0m\u001b[0;34m.\u001b[0m\u001b[0mcritic_2\u001b[0m\u001b[0;34m.\u001b[0m\u001b[0mforward\u001b[0m\u001b[0;34m(\u001b[0m\u001b[0mstate\u001b[0m\u001b[0;34m,\u001b[0m\u001b[0maction\u001b[0m\u001b[0;34m)\u001b[0m\u001b[0;34m\u001b[0m\u001b[0;34m\u001b[0m\u001b[0m\n",
      "\u001b[0;32m~/Documenti/Università/CPS/agent.py\u001b[0m in \u001b[0;36mforward\u001b[0;34m(self, state, action)\u001b[0m\n\u001b[1;32m    117\u001b[0m         \u001b[0;31m#q1_action_value = self.fc2(q1_action_value)\u001b[0m\u001b[0;34m\u001b[0m\u001b[0;34m\u001b[0m\u001b[0;34m\u001b[0m\u001b[0m\n\u001b[1;32m    118\u001b[0m \u001b[0;34m\u001b[0m\u001b[0m\n\u001b[0;32m--> 119\u001b[0;31m         \u001b[0mq1_action_value\u001b[0m \u001b[0;34m=\u001b[0m \u001b[0mself\u001b[0m\u001b[0;34m.\u001b[0m\u001b[0mfc2\u001b[0m\u001b[0;34m(\u001b[0m\u001b[0mT\u001b[0m\u001b[0;34m.\u001b[0m\u001b[0mcat\u001b[0m\u001b[0;34m(\u001b[0m\u001b[0;34m[\u001b[0m\u001b[0mq1_action_value\u001b[0m\u001b[0;34m,\u001b[0m\u001b[0maction\u001b[0m\u001b[0;34m]\u001b[0m\u001b[0;34m,\u001b[0m\u001b[0mdim\u001b[0m\u001b[0;34m=\u001b[0m\u001b[0;36m1\u001b[0m\u001b[0;34m)\u001b[0m\u001b[0;34m)\u001b[0m\u001b[0;34m\u001b[0m\u001b[0;34m\u001b[0m\u001b[0m\n\u001b[0m\u001b[1;32m    120\u001b[0m \u001b[0;34m\u001b[0m\u001b[0m\n\u001b[1;32m    121\u001b[0m         \u001b[0mq1_action_value\u001b[0m \u001b[0;34m=\u001b[0m \u001b[0mF\u001b[0m\u001b[0;34m.\u001b[0m\u001b[0mrelu\u001b[0m\u001b[0;34m(\u001b[0m\u001b[0mq1_action_value\u001b[0m\u001b[0;34m)\u001b[0m\u001b[0;34m\u001b[0m\u001b[0;34m\u001b[0m\u001b[0m\n",
      "\u001b[0;32m~/.local/lib/python3.8/site-packages/torch/nn/modules/module.py\u001b[0m in \u001b[0;36m_call_impl\u001b[0;34m(self, *input, **kwargs)\u001b[0m\n\u001b[1;32m    725\u001b[0m             \u001b[0mresult\u001b[0m \u001b[0;34m=\u001b[0m \u001b[0mself\u001b[0m\u001b[0;34m.\u001b[0m\u001b[0m_slow_forward\u001b[0m\u001b[0;34m(\u001b[0m\u001b[0;34m*\u001b[0m\u001b[0minput\u001b[0m\u001b[0;34m,\u001b[0m \u001b[0;34m**\u001b[0m\u001b[0mkwargs\u001b[0m\u001b[0;34m)\u001b[0m\u001b[0;34m\u001b[0m\u001b[0;34m\u001b[0m\u001b[0m\n\u001b[1;32m    726\u001b[0m         \u001b[0;32melse\u001b[0m\u001b[0;34m:\u001b[0m\u001b[0;34m\u001b[0m\u001b[0;34m\u001b[0m\u001b[0m\n\u001b[0;32m--> 727\u001b[0;31m             \u001b[0mresult\u001b[0m \u001b[0;34m=\u001b[0m \u001b[0mself\u001b[0m\u001b[0;34m.\u001b[0m\u001b[0mforward\u001b[0m\u001b[0;34m(\u001b[0m\u001b[0;34m*\u001b[0m\u001b[0minput\u001b[0m\u001b[0;34m,\u001b[0m \u001b[0;34m**\u001b[0m\u001b[0mkwargs\u001b[0m\u001b[0;34m)\u001b[0m\u001b[0;34m\u001b[0m\u001b[0;34m\u001b[0m\u001b[0m\n\u001b[0m\u001b[1;32m    728\u001b[0m         for hook in itertools.chain(\n\u001b[1;32m    729\u001b[0m                 \u001b[0m_global_forward_hooks\u001b[0m\u001b[0;34m.\u001b[0m\u001b[0mvalues\u001b[0m\u001b[0;34m(\u001b[0m\u001b[0;34m)\u001b[0m\u001b[0;34m,\u001b[0m\u001b[0;34m\u001b[0m\u001b[0;34m\u001b[0m\u001b[0m\n",
      "\u001b[0;32m~/.local/lib/python3.8/site-packages/torch/nn/modules/linear.py\u001b[0m in \u001b[0;36mforward\u001b[0;34m(self, input)\u001b[0m\n\u001b[1;32m     91\u001b[0m \u001b[0;34m\u001b[0m\u001b[0m\n\u001b[1;32m     92\u001b[0m     \u001b[0;32mdef\u001b[0m \u001b[0mforward\u001b[0m\u001b[0;34m(\u001b[0m\u001b[0mself\u001b[0m\u001b[0;34m,\u001b[0m \u001b[0minput\u001b[0m\u001b[0;34m:\u001b[0m \u001b[0mTensor\u001b[0m\u001b[0;34m)\u001b[0m \u001b[0;34m->\u001b[0m \u001b[0mTensor\u001b[0m\u001b[0;34m:\u001b[0m\u001b[0;34m\u001b[0m\u001b[0;34m\u001b[0m\u001b[0m\n\u001b[0;32m---> 93\u001b[0;31m         \u001b[0;32mreturn\u001b[0m \u001b[0mF\u001b[0m\u001b[0;34m.\u001b[0m\u001b[0mlinear\u001b[0m\u001b[0;34m(\u001b[0m\u001b[0minput\u001b[0m\u001b[0;34m,\u001b[0m \u001b[0mself\u001b[0m\u001b[0;34m.\u001b[0m\u001b[0mweight\u001b[0m\u001b[0;34m,\u001b[0m \u001b[0mself\u001b[0m\u001b[0;34m.\u001b[0m\u001b[0mbias\u001b[0m\u001b[0;34m)\u001b[0m\u001b[0;34m\u001b[0m\u001b[0;34m\u001b[0m\u001b[0m\n\u001b[0m\u001b[1;32m     94\u001b[0m \u001b[0;34m\u001b[0m\u001b[0m\n\u001b[1;32m     95\u001b[0m     \u001b[0;32mdef\u001b[0m \u001b[0mextra_repr\u001b[0m\u001b[0;34m(\u001b[0m\u001b[0mself\u001b[0m\u001b[0;34m)\u001b[0m \u001b[0;34m->\u001b[0m \u001b[0mstr\u001b[0m\u001b[0;34m:\u001b[0m\u001b[0;34m\u001b[0m\u001b[0;34m\u001b[0m\u001b[0m\n",
      "\u001b[0;32m~/.local/lib/python3.8/site-packages/torch/nn/functional.py\u001b[0m in \u001b[0;36mlinear\u001b[0;34m(input, weight, bias)\u001b[0m\n\u001b[1;32m   1688\u001b[0m     \u001b[0;32mif\u001b[0m \u001b[0minput\u001b[0m\u001b[0;34m.\u001b[0m\u001b[0mdim\u001b[0m\u001b[0;34m(\u001b[0m\u001b[0;34m)\u001b[0m \u001b[0;34m==\u001b[0m \u001b[0;36m2\u001b[0m \u001b[0;32mand\u001b[0m \u001b[0mbias\u001b[0m \u001b[0;32mis\u001b[0m \u001b[0;32mnot\u001b[0m \u001b[0;32mNone\u001b[0m\u001b[0;34m:\u001b[0m\u001b[0;34m\u001b[0m\u001b[0;34m\u001b[0m\u001b[0m\n\u001b[1;32m   1689\u001b[0m         \u001b[0;31m# fused op is marginally faster\u001b[0m\u001b[0;34m\u001b[0m\u001b[0;34m\u001b[0m\u001b[0;34m\u001b[0m\u001b[0m\n\u001b[0;32m-> 1690\u001b[0;31m         \u001b[0mret\u001b[0m \u001b[0;34m=\u001b[0m \u001b[0mtorch\u001b[0m\u001b[0;34m.\u001b[0m\u001b[0maddmm\u001b[0m\u001b[0;34m(\u001b[0m\u001b[0mbias\u001b[0m\u001b[0;34m,\u001b[0m \u001b[0minput\u001b[0m\u001b[0;34m,\u001b[0m \u001b[0mweight\u001b[0m\u001b[0;34m.\u001b[0m\u001b[0mt\u001b[0m\u001b[0;34m(\u001b[0m\u001b[0;34m)\u001b[0m\u001b[0;34m)\u001b[0m\u001b[0;34m\u001b[0m\u001b[0;34m\u001b[0m\u001b[0m\n\u001b[0m\u001b[1;32m   1691\u001b[0m     \u001b[0;32melse\u001b[0m\u001b[0;34m:\u001b[0m\u001b[0;34m\u001b[0m\u001b[0;34m\u001b[0m\u001b[0m\n\u001b[1;32m   1692\u001b[0m         \u001b[0moutput\u001b[0m \u001b[0;34m=\u001b[0m \u001b[0minput\u001b[0m\u001b[0;34m.\u001b[0m\u001b[0mmatmul\u001b[0m\u001b[0;34m(\u001b[0m\u001b[0mweight\u001b[0m\u001b[0;34m.\u001b[0m\u001b[0mt\u001b[0m\u001b[0;34m(\u001b[0m\u001b[0;34m)\u001b[0m\u001b[0;34m)\u001b[0m\u001b[0;34m\u001b[0m\u001b[0;34m\u001b[0m\u001b[0m\n",
      "\u001b[0;31mKeyboardInterrupt\u001b[0m: "
     ]
    }
   ],
   "source": [
    "for i in range(1000): \n",
    "    \n",
    "    print(i, end='\\r')\n",
    "    \n",
    "    a = np.random.uniform(-30,30,4)\n",
    "    \n",
    "    b = np.random.uniform(0,90,2)\n",
    "    \n",
    "    spatial_state = State(a[0],a[1],np.radians(b[0]))\n",
    "    \n",
    "    target = State(a[2],a[3],np.radians(b[1]))\n",
    "    \n",
    "    controller = Controller(target,spatial_state)\n",
    "    \n",
    "    done = False \n",
    "    \n",
    "    error_state = controller.iterate() \n",
    "    \n",
    "    score = 0 \n",
    "    \n",
    "    expl_noise = 0.25 \n",
    "    \n",
    "    num_steps = 0 \n",
    "    \n",
    "    h = 0\n",
    "    \n",
    "    while not done: \n",
    "        \n",
    "        h+=1 \n",
    "        \n",
    "        num_steps += 1 \n",
    "        \n",
    "        if test: \n",
    "            \n",
    "            action = controller.iterate_with_gains(-agent.actor.mu.weight[0].item(),-agent.actor.mu.weight[1].item(),-agent.actor.mu.weight[2].item())\n",
    "            \n",
    "        else:\n",
    "            action = agent.choose_action(error_state, expl_noise)\n",
    "        \n",
    "        \n",
    "            \n",
    "        controller.make_action(action) \n",
    "        \n",
    "        done_ = controller.isArrived() \n",
    "        \n",
    "        if(done_): \n",
    "            print(\"successo\")\n",
    "            \n",
    "        new_error_state = controller.iterate() \n",
    "        \n",
    "        if done_ : \n",
    "            reward = 200 \n",
    "            \n",
    "        else: \n",
    "            \n",
    "            reward = -new_error_state[0]**2\n",
    "            \n",
    "        #new_error_state = controller.iterate() \n",
    "        \n",
    "        done = done_ \n",
    "        \n",
    "        if num_steps>=800: \n",
    "            done = True \n",
    "            print(\"insuccesso\")\n",
    "        if not test:\n",
    "            agent.store_transition(error_state, action, reward, new_error_state, done)\n",
    "        \n",
    "        error_state = new_error_state \n",
    "        if not test:\n",
    "            agent.train() \n",
    "        \n",
    "        score += reward \n",
    "        \n",
    "        if (i%50==0): \n",
    "            \n",
    "            controller.track_route()\n",
    "            \n",
    "          \n",
    "                \n",
    "    score_history.append(score) \n",
    "    \n",
    "    avg_score = np.mean(score_history[-50:])\n",
    "    \n",
    "    if avg_score > best_score: \n",
    "        \n",
    "        best_score = avg_score \n",
    "        if not test:\n",
    "            \n",
    "            agent.save_models() \n",
    "        \n",
    "    if(i%10==0): \n",
    "        \n",
    "            print(\"Results during training procedure:\") \n",
    "            \n",
    "            print('episode ', i, 'score %.1f' % score, 'average score %.1f' % avg_score)\n",
    "            \n",
    "        \n",
    "    \n",
    "    \n",
    "            \n",
    "        \n",
    "        \n",
    "        \n",
    "        \n",
    "    "
   ]
  },
  {
   "cell_type": "code",
   "execution_count": null,
   "metadata": {},
   "outputs": [],
   "source": [
    "#agent = Agent(error_state.shape[0],chkpt_dir = \"slow_model\",device='cpu')\n"
   ]
  },
  {
   "cell_type": "code",
   "execution_count": 26,
   "metadata": {},
   "outputs": [],
   "source": [
    "agent.load_models()"
   ]
  },
  {
   "cell_type": "code",
   "execution_count": 27,
   "metadata": {},
   "outputs": [],
   "source": [
    "k = abs(agent.actor.mu.weight[0].item())"
   ]
  },
  {
   "cell_type": "code",
   "execution_count": 28,
   "metadata": {},
   "outputs": [
    {
     "data": {
      "text/plain": [
       "2.1447010040283203"
      ]
     },
     "execution_count": 28,
     "metadata": {},
     "output_type": "execute_result"
    }
   ],
   "source": [
    "# k final model :\n",
    "k\n",
    "    "
   ]
  },
  {
   "cell_type": "code",
   "execution_count": 29,
   "metadata": {},
   "outputs": [
    {
     "data": {
      "text/plain": [
       "0.02368307113647461"
      ]
     },
     "execution_count": 29,
     "metadata": {},
     "output_type": "execute_result"
    }
   ],
   "source": [
    "ki= abs(agent.actor.mu.weight[1].item())\n",
    "#final model ki : \n",
    "ki"
   ]
  },
  {
   "cell_type": "code",
   "execution_count": 30,
   "metadata": {},
   "outputs": [
    {
     "data": {
      "text/plain": [
       "0.0006181714707054198"
      ]
     },
     "execution_count": 30,
     "metadata": {},
     "output_type": "execute_result"
    }
   ],
   "source": [
    "kd = abs(agent.actor.mu.weight[2].item())\n",
    "#final model kd : \n",
    "kd "
   ]
  },
  {
   "cell_type": "code",
   "execution_count": 123,
   "metadata": {},
   "outputs": [
    {
     "name": "stdout",
     "output_type": "stream",
     "text": [
      "...saving...\n",
      "...saving...\n",
      "...saving...\n",
      "...saving...\n",
      "...saving...\n",
      "...saving...\n"
     ]
    }
   ],
   "source": [
    "#agent.save_models()"
   ]
  },
  {
   "cell_type": "code",
   "execution_count": 126,
   "metadata": {},
   "outputs": [
    {
     "data": {
      "text/plain": [
       "1.22925865650177"
      ]
     },
     "execution_count": 126,
     "metadata": {},
     "output_type": "execute_result"
    }
   ],
   "source": [
    "#abs(agent.actor.mu.weight[1].item())"
   ]
  },
  {
   "cell_type": "code",
   "execution_count": 156,
   "metadata": {},
   "outputs": [],
   "source": [
    "np.random.seed(83)"
   ]
  },
  {
   "cell_type": "code",
   "execution_count": 157,
   "metadata": {},
   "outputs": [],
   "source": [
    "#kd= 6.574056625366211\n",
    "#num_steps = 0"
   ]
  },
  {
   "cell_type": "code",
   "execution_count": 158,
   "metadata": {},
   "outputs": [
    {
     "name": "stdout",
     "output_type": "stream",
     "text": [
      "episode  0  success\n"
     ]
    }
   ],
   "source": [
    "for i in range(1): \n",
    "    \n",
    "    a = np.random.uniform(-30,30,4)\n",
    "    \n",
    "    b = np.random.uniform(0,90,2)\n",
    "    \n",
    "    spatial_state = State(a[0],a[1],np.radians(b[0]))\n",
    "    \n",
    "    target = State(a[2],a[3],np.radians(b[1]))\n",
    "    \n",
    "    controller = Controller(target,spatial_state)\n",
    "    \n",
    "    done = False \n",
    "    num_steps = 0\n",
    "    \n",
    "    while not done: \n",
    "        \n",
    "        w = controller.iterate_with_gains(k,ki,kd)\n",
    "        \n",
    "        controller.make_action(w) \n",
    "        \n",
    "        done = controller.isArrived() \n",
    "        \n",
    "        if done: \n",
    "            \n",
    "            print(\"episode \",i,\" success\")\n",
    "            \n",
    "        num_steps +=1 \n",
    "        \n",
    "        if num_steps>=800: \n",
    "            \n",
    "            done = True \n",
    "            \n",
    "            print(\"Target not reached\")\n",
    "        \n",
    "        controller.track_route() \n",
    "        \n",
    "        if(done): \n",
    "        \n",
    "            a,b,c = controller.give_route()\n",
    "            #parkour = Parkour()\n",
    "            #parkour.drawPlot(a, b, c, targetX=target.x,targetY=target.y,targetT=target.theta, show=True)\n",
    "            \n",
    "        \n",
    "        \n",
    "    \n",
    "        \n",
    "        \n",
    "    \n",
    "    \n",
    "    \n",
    "    \n",
    "    \n",
    "    \n",
    "    \n",
    "    "
   ]
  },
  {
   "cell_type": "code",
   "execution_count": 159,
   "metadata": {},
   "outputs": [],
   "source": [
    "x = a \n",
    "y = b\n",
    "time_ = [controller.dt*i for i in range(len(x))]\n",
    "direction = [] \n",
    "pid_direction = []"
   ]
  },
  {
   "cell_type": "code",
   "execution_count": 160,
   "metadata": {},
   "outputs": [],
   "source": [
    "for i in range(len(x)-1):\n",
    "    dy = target.y -y[i]\n",
    "    dx = target.x -x[i]\n",
    "    \n",
    "    #d= np.arctan2((target.y-y[i])/(target.x -x[i]))\n",
    "    direction.append(np.arctan2(dy,dx))\n",
    "    dy = y[i+1]-y[i]\n",
    "    dx = x[i+1]-x[i]\n",
    "    \n",
    "    pid_direction.append(np.arctan2(dy,dx))"
   ]
  },
  {
   "cell_type": "code",
   "execution_count": null,
   "metadata": {},
   "outputs": [],
   "source": []
  },
  {
   "cell_type": "code",
   "execution_count": 161,
   "metadata": {},
   "outputs": [
    {
     "data": {
      "text/plain": [
       "[<matplotlib.lines.Line2D at 0x7fbd22501af0>]"
      ]
     },
     "execution_count": 161,
     "metadata": {},
     "output_type": "execute_result"
    },
    {
     "data": {
      "image/png": "[encoded data removed]",
      "text/plain": [
       "<Figure size 432x288 with 1 Axes>"
      ]
     },
     "metadata": {
      "needs_background": "light"
     },
     "output_type": "display_data"
    }
   ],
   "source": [
    "plt.plot(direction)\n",
    "plt.plot(pid_direction)"
   ]
  },
  {
   "cell_type": "code",
   "execution_count": null,
   "metadata": {},
   "outputs": [],
   "source": []
  },
  {
   "cell_type": "code",
   "execution_count": 144,
   "metadata": {},
   "outputs": [],
   "source": [
    "def overshoot(x,ref): \n",
    "    \n",
    "    if x[0] < ref[0]: \n",
    "        \n",
    "        max_value = np.max(x -ref)\n",
    "        \n",
    "        if max_value < 0: \n",
    "            \n",
    "            return 0 \n",
    "        \n",
    "        return max_value \n",
    "    \n",
    "    max_value = np.min(x -ref)\n",
    "    \n",
    "    if max_value > 0: \n",
    "        \n",
    "        return 0\n",
    "    \n",
    "    return max_value "
   ]
  },
  {
   "cell_type": "code",
   "execution_count": 163,
   "metadata": {},
   "outputs": [],
   "source": [
    "pid_d = np.asarray(pid_direction) \n",
    "dir_ = np.asarray(direction)"
   ]
  },
  {
   "cell_type": "code",
   "execution_count": null,
   "metadata": {},
   "outputs": [],
   "source": []
  },
  {
   "cell_type": "code",
   "execution_count": 146,
   "metadata": {},
   "outputs": [],
   "source": [
    "ov_error = overshoot(pid_d,dir_) "
   ]
  },
  {
   "cell_type": "code",
   "execution_count": 147,
   "metadata": {},
   "outputs": [
    {
     "data": {
      "text/plain": [
       "-0.36690493532482327"
      ]
     },
     "execution_count": 147,
     "metadata": {},
     "output_type": "execute_result"
    }
   ],
   "source": [
    "ov_error "
   ]
  },
  {
   "cell_type": "code",
   "execution_count": 149,
   "metadata": {},
   "outputs": [
    {
     "data": {
      "text/plain": [
       "1"
      ]
     },
     "execution_count": 149,
     "metadata": {},
     "output_type": "execute_result"
    }
   ],
   "source": [
    "a = 2 \n",
    "np.sign(a)"
   ]
  },
  {
   "cell_type": "code",
   "execution_count": null,
   "metadata": {},
   "outputs": [],
   "source": []
  },
  {
   "cell_type": "code",
   "execution_count": 165,
   "metadata": {},
   "outputs": [],
   "source": [
    "diff = pid_d -dir_"
   ]
  },
  {
   "cell_type": "code",
   "execution_count": 167,
   "metadata": {},
   "outputs": [],
   "source": [
    "a = np.sign(diff)"
   ]
  },
  {
   "cell_type": "code",
   "execution_count": 172,
   "metadata": {},
   "outputs": [
    {
     "data": {
      "text/plain": [
       "13"
      ]
     },
     "execution_count": 172,
     "metadata": {},
     "output_type": "execute_result"
    }
   ],
   "source": [
    "np.min(np.where(a!=a[0]))"
   ]
  },
  {
   "cell_type": "code",
   "execution_count": null,
   "metadata": {},
   "outputs": [],
   "source": [
    "#ok qui non rendo t ma adattarla poi a quella che rende t "
   ]
  },
  {
   "cell_type": "code",
   "execution_count": 177,
   "metadata": {},
   "outputs": [],
   "source": [
    "def rise_time(x,ref,t): \n",
    "    \n",
    "    diff = x -ref \n",
    "    \n",
    "    sign_ = np.sign(diff)\n",
    "    \n",
    "    index = np.min(np.where(sign_!=sign_[0]))\n",
    "    \n",
    "    return t[index]\n",
    "    \n",
    "    \n",
    "    \n",
    "    "
   ]
  },
  {
   "cell_type": "code",
   "execution_count": 178,
   "metadata": {},
   "outputs": [],
   "source": [
    "riseTime = rise_time(pid_d,dir_,time_)"
   ]
  },
  {
   "cell_type": "code",
   "execution_count": 180,
   "metadata": {},
   "outputs": [
    {
     "data": {
      "text/plain": [
       "1.3"
      ]
     },
     "execution_count": 180,
     "metadata": {},
     "output_type": "execute_result"
    }
   ],
   "source": [
    "riseTime"
   ]
  },
  {
   "cell_type": "code",
   "execution_count": 181,
   "metadata": {},
   "outputs": [],
   "source": [
    "\n",
    "def steady_state_error(x, ref):\n",
    "    \"\"\"Difference between steady state value of the output signal and value of the reference signal\"\"\"\n",
    "    error = round(np.abs(x[-1] - ref[-1]), 3)\n",
    "    return error"
   ]
  },
  {
   "cell_type": "code",
   "execution_count": 182,
   "metadata": {},
   "outputs": [],
   "source": [
    "s = steady_state_error(pid_d,dir_)"
   ]
  },
  {
   "cell_type": "code",
   "execution_count": 183,
   "metadata": {},
   "outputs": [
    {
     "data": {
      "text/plain": [
       "0.006"
      ]
     },
     "execution_count": 183,
     "metadata": {},
     "output_type": "execute_result"
    }
   ],
   "source": [
    "s"
   ]
  },
  {
   "cell_type": "code",
   "execution_count": 257,
   "metadata": {},
   "outputs": [],
   "source": [
    "def settling_time(x,ref,t,perc=1): \n",
    "    \n",
    "    err = (np.pi*perc)/100\n",
    "    \n",
    "    diff = abs(x -ref) \n",
    "    \n",
    "    arr = diff<err \n",
    "    \n",
    "    index = np.max(np.where(arr==False))+1 \n",
    "    \n",
    "    if index >= len(x): \n",
    "        return t[-1] \n",
    "    \n",
    "    return t[index]\n",
    "    \n",
    "    \n",
    "    \n",
    "    "
   ]
  },
  {
   "cell_type": "code",
   "execution_count": 258,
   "metadata": {},
   "outputs": [],
   "source": [
    "settling_t = settling_time(pid_d,dir_,time_, perc=0.5)"
   ]
  },
  {
   "cell_type": "code",
   "execution_count": null,
   "metadata": {},
   "outputs": [],
   "source": []
  },
  {
   "cell_type": "code",
   "execution_count": null,
   "metadata": {},
   "outputs": [],
   "source": []
  },
  {
   "cell_type": "code",
   "execution_count": null,
   "metadata": {},
   "outputs": [],
   "source": []
  },
  {
   "cell_type": "code",
   "execution_count": 184,
   "metadata": {},
   "outputs": [
    {
     "data": {
      "text/plain": [
       "3.141592653589793"
      ]
     },
     "execution_count": 184,
     "metadata": {},
     "output_type": "execute_result"
    }
   ],
   "source": [
    "np.pi"
   ]
  },
  {
   "cell_type": "code",
   "execution_count": null,
   "metadata": {},
   "outputs": [],
   "source": []
  },
  {
   "cell_type": "code",
   "execution_count": 238,
   "metadata": {},
   "outputs": [],
   "source": [
    "err = (np.pi*0.5)/100 "
   ]
  },
  {
   "cell_type": "code",
   "execution_count": 239,
   "metadata": {},
   "outputs": [
    {
     "data": {
      "text/plain": [
       "0.015707963267948967"
      ]
     },
     "execution_count": 239,
     "metadata": {},
     "output_type": "execute_result"
    }
   ],
   "source": [
    "err"
   ]
  },
  {
   "cell_type": "code",
   "execution_count": 240,
   "metadata": {},
   "outputs": [],
   "source": [
    "diff =abs(pid_d - dir_)"
   ]
  },
  {
   "cell_type": "code",
   "execution_count": 241,
   "metadata": {},
   "outputs": [
    {
     "data": {
      "text/plain": [
       "array([False, False, False, False, False, False, False, False, False,\n",
       "       False, False, False,  True,  True, False, False, False, False,\n",
       "       False, False, False, False, False, False, False, False, False,\n",
       "       False, False, False, False, False, False, False, False, False,\n",
       "       False, False, False, False, False, False, False, False, False,\n",
       "       False, False, False, False, False, False, False, False, False,\n",
       "       False, False, False, False, False, False, False, False, False,\n",
       "       False, False, False, False, False, False, False, False, False,\n",
       "       False, False, False, False, False, False, False, False, False,\n",
       "       False, False, False, False, False, False, False, False, False,\n",
       "       False, False, False, False, False, False, False, False, False,\n",
       "       False, False, False, False, False, False, False, False, False,\n",
       "       False, False, False, False, False, False, False, False, False,\n",
       "       False, False, False, False, False,  True,  True,  True,  True,\n",
       "        True,  True,  True,  True,  True,  True,  True,  True,  True,\n",
       "        True,  True,  True,  True,  True,  True,  True,  True,  True,\n",
       "        True,  True,  True,  True,  True,  True,  True,  True,  True,\n",
       "        True,  True,  True,  True,  True,  True,  True,  True,  True,\n",
       "        True,  True,  True,  True,  True,  True,  True,  True,  True,\n",
       "        True,  True,  True,  True,  True,  True,  True,  True,  True,\n",
       "        True,  True,  True,  True,  True,  True,  True,  True,  True,\n",
       "        True,  True,  True,  True,  True,  True,  True,  True,  True,\n",
       "        True,  True,  True,  True,  True,  True,  True,  True,  True,\n",
       "        True,  True,  True,  True,  True,  True,  True,  True,  True,\n",
       "        True,  True,  True,  True,  True,  True,  True,  True,  True,\n",
       "        True,  True,  True,  True,  True,  True,  True,  True,  True,\n",
       "        True,  True,  True,  True,  True,  True,  True,  True,  True,\n",
       "        True,  True,  True])"
      ]
     },
     "execution_count": 241,
     "metadata": {},
     "output_type": "execute_result"
    }
   ],
   "source": [
    "diff <err"
   ]
  },
  {
   "cell_type": "code",
   "execution_count": 242,
   "metadata": {},
   "outputs": [],
   "source": [
    "arr = diff< err"
   ]
  },
  {
   "cell_type": "code",
   "execution_count": 244,
   "metadata": {},
   "outputs": [
    {
     "data": {
      "text/plain": [
       "numpy.ndarray"
      ]
     },
     "execution_count": 244,
     "metadata": {},
     "output_type": "execute_result"
    }
   ],
   "source": [
    "type(arr)"
   ]
  },
  {
   "cell_type": "code",
   "execution_count": 249,
   "metadata": {},
   "outputs": [],
   "source": [
    "index = np.max(np.where(arr==False))+1 "
   ]
  },
  {
   "cell_type": "code",
   "execution_count": 250,
   "metadata": {},
   "outputs": [
    {
     "ename": "SyntaxError",
     "evalue": "invalid syntax (<ipython-input-250-c7820c930455>, line 2)",
     "output_type": "error",
     "traceback": [
      "\u001b[0;36m  File \u001b[0;32m\"<ipython-input-250-c7820c930455>\"\u001b[0;36m, line \u001b[0;32m2\u001b[0m\n\u001b[0;31m    retunr len(x)\u001b[0m\n\u001b[0m           ^\u001b[0m\n\u001b[0;31mSyntaxError\u001b[0m\u001b[0;31m:\u001b[0m invalid syntax\n"
     ]
    }
   ],
   "source": [
    "if index >len(x) : \n",
    "    retunr len(x) "
   ]
  },
  {
   "cell_type": "code",
   "execution_count": null,
   "metadata": {},
   "outputs": [],
   "source": []
  },
  {
   "cell_type": "code",
   "execution_count": 247,
   "metadata": {},
   "outputs": [
    {
     "data": {
      "text/plain": [
       "121"
      ]
     },
     "execution_count": 247,
     "metadata": {},
     "output_type": "execute_result"
    }
   ],
   "source": [
    "index "
   ]
  },
  {
   "cell_type": "code",
   "execution_count": 248,
   "metadata": {},
   "outputs": [
    {
     "data": {
      "text/plain": [
       "117"
      ]
     },
     "execution_count": 248,
     "metadata": {},
     "output_type": "execute_result"
    }
   ],
   "source": [
    "9*13"
   ]
  },
  {
   "cell_type": "code",
   "execution_count": null,
   "metadata": {},
   "outputs": [],
   "source": []
  },
  {
   "cell_type": "code",
   "execution_count": null,
   "metadata": {},
   "outputs": [],
   "source": []
  },
  {
   "cell_type": "code",
   "execution_count": null,
   "metadata": {},
   "outputs": [],
   "source": []
  },
  {
   "cell_type": "code",
   "execution_count": null,
   "metadata": {},
   "outputs": [],
   "source": []
  },
  {
   "cell_type": "code",
   "execution_count": null,
   "metadata": {},
   "outputs": [],
   "source": []
  },
  {
   "cell_type": "code",
   "execution_count": 223,
   "metadata": {},
   "outputs": [
    {
     "data": {
      "text/plain": [
       "array([False, False, False, False, False, False, False, False, False,\n",
       "       False, False, False, False,  True,  True,  True,  True,  True,\n",
       "        True,  True,  True,  True,  True,  True,  True,  True,  True,\n",
       "        True,  True,  True,  True,  True,  True,  True,  True,  True,\n",
       "        True,  True,  True,  True,  True,  True,  True,  True,  True,\n",
       "        True,  True,  True,  True,  True,  True,  True,  True,  True,\n",
       "        True,  True,  True,  True,  True,  True,  True,  True,  True,\n",
       "        True,  True,  True,  True,  True,  True,  True,  True,  True,\n",
       "        True,  True,  True,  True,  True,  True,  True,  True,  True,\n",
       "        True,  True,  True,  True,  True,  True,  True,  True,  True,\n",
       "        True,  True,  True,  True,  True,  True,  True,  True,  True,\n",
       "        True,  True,  True,  True,  True,  True,  True,  True,  True,\n",
       "        True,  True,  True,  True,  True,  True,  True,  True,  True,\n",
       "        True,  True,  True,  True,  True,  True,  True,  True,  True,\n",
       "        True,  True,  True,  True,  True,  True,  True,  True,  True,\n",
       "        True,  True,  True,  True,  True,  True,  True,  True,  True,\n",
       "        True,  True,  True,  True,  True,  True,  True,  True,  True,\n",
       "        True,  True,  True,  True,  True,  True,  True,  True,  True,\n",
       "        True,  True,  True,  True,  True,  True,  True,  True,  True,\n",
       "        True,  True,  True,  True,  True,  True,  True,  True,  True,\n",
       "        True,  True,  True,  True,  True,  True,  True,  True,  True,\n",
       "        True,  True,  True,  True,  True,  True,  True,  True,  True,\n",
       "        True,  True,  True,  True,  True,  True,  True,  True,  True,\n",
       "        True,  True,  True,  True,  True,  True,  True,  True,  True,\n",
       "        True,  True,  True,  True,  True,  True,  True,  True,  True,\n",
       "        True,  True,  True,  True,  True,  True,  True,  True,  True,\n",
       "        True,  True,  True,  True,  True,  True,  True,  True,  True,\n",
       "        True,  True,  True])"
      ]
     },
     "execution_count": 223,
     "metadata": {},
     "output_type": "execute_result"
    }
   ],
   "source": [
    "diff < err"
   ]
  },
  {
   "cell_type": "code",
   "execution_count": null,
   "metadata": {},
   "outputs": [],
   "source": []
  },
  {
   "cell_type": "code",
   "execution_count": null,
   "metadata": {},
   "outputs": [],
   "source": []
  },
  {
   "cell_type": "code",
   "execution_count": null,
   "metadata": {},
   "outputs": [],
   "source": []
  },
  {
   "cell_type": "code",
   "execution_count": null,
   "metadata": {},
   "outputs": [],
   "source": []
  },
  {
   "cell_type": "code",
   "execution_count": null,
   "metadata": {},
   "outputs": [],
   "source": []
  },
  {
   "cell_type": "code",
   "execution_count": null,
   "metadata": {},
   "outputs": [],
   "source": []
  },
  {
   "cell_type": "code",
   "execution_count": null,
   "metadata": {},
   "outputs": [],
   "source": []
  },
  {
   "cell_type": "code",
   "execution_count": null,
   "metadata": {},
   "outputs": [],
   "source": []
  },
  {
   "cell_type": "code",
   "execution_count": null,
   "metadata": {},
   "outputs": [],
   "source": []
  },
  {
   "cell_type": "code",
   "execution_count": null,
   "metadata": {},
   "outputs": [],
   "source": []
  },
  {
   "cell_type": "code",
   "execution_count": null,
   "metadata": {},
   "outputs": [],
   "source": []
  },
  {
   "cell_type": "code",
   "execution_count": null,
   "metadata": {},
   "outputs": [],
   "source": []
  }
 ],
 "metadata": {
  "kernelspec": {
   "display_name": "Python 3",
   "language": "python",
   "name": "python3"
  },
  "language_info": {
   "codemirror_mode": {
    "name": "ipython",
    "version": 3
   },
   "file_extension": ".py",
   "mimetype": "text/x-python",
   "name": "python",
   "nbconvert_exporter": "python",
   "pygments_lexer": "ipython3",
   "version": "3.8.10"
  }
 },
 "nbformat": 4,
 "nbformat_minor": 4
}
