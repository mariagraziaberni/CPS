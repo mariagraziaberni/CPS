{
 "cells": [
  {
   "cell_type": "code",
   "execution_count": 1,
   "metadata": {},
   "outputs": [],
   "source": [
    "import numpy as np\n",
    "import matplotlib.pyplot as plt\n",
    "from scipy import ndimage\n",
    "import numpy as np\n",
    "import matplotlib.pyplot as plt \n",
    "import torch as T \n",
    "import torch.nn as nn \n",
    "import torch.nn.functional as F \n",
    "import torch.optim as optim \n",
    "import os \n",
    "from utility import *\n",
    "from agent import *\n",
    "from pid_performance import *"
   ]
  },
  {
   "cell_type": "code",
   "execution_count": 2,
   "metadata": {},
   "outputs": [],
   "source": [
    "# descrive the system state, position and heading \n",
    "class State(): \n",
    "    \n",
    "    def __init__(self, x_, y_, theta_):\n",
    "    \n",
    "        if not (x_ is None or y_ is None or theta_ is None ):  \n",
    "        \n",
    "            \n",
    "            self.x = x_ \n",
    "            \n",
    "            self.y = y_ \n",
    "            \n",
    "            self.theta = theta_ \n",
    "            \n",
    "        else : \n",
    "            \n",
    "            self.x = 0 \n",
    "            \n",
    "            self.y= 0\n",
    "            \n",
    "            self.theta= 0\n",
    "            \n",
    "    def __str__(self): \n",
    "        \n",
    "        \n",
    "        return str(self.x)+\",\"+str(self.y)+\",\"+str(self.theta)\n",
    "    \n",
    "    def distance_form_state(self,other): \n",
    "        \n",
    "        \n",
    "        distance = np.array([self.x-other.x,self.y-other.y])\n",
    "        \n",
    "        distance_err = distance@distance\n",
    "        \n",
    "        return distance_err\n",
    "         "
   ]
  },
  {
   "cell_type": "code",
   "execution_count": 3,
   "metadata": {},
   "outputs": [],
   "source": [
    "class Controller():\n",
    "    \n",
    "    def __init__(self, goal, start, R_=0.0325, L_=0.1, dT=0.1, v_=1, arrive_distance=0.3): \n",
    "    \n",
    "        self.R = R_   #radius of the wheel \n",
    "    \n",
    "        self.L = L_   #length of the differential drive robot \n",
    "    \n",
    "        self.E = 0 #cumulative error for integration \n",
    "    \n",
    "        self.old_e = 0  #previous error \n",
    "    \n",
    "        self.v = v_   #the velocity is kept constant \n",
    "    \n",
    "        self.dt = dT   #time_step \n",
    "    \n",
    "        self.arrive_distance = arrive_distance \n",
    "    \n",
    "        self.goal = goal \n",
    "    \n",
    "        self.current_position = start \n",
    "    \n",
    "        self.route_x = [] \n",
    "    \n",
    "        self.route_y = [] \n",
    "    \n",
    "        self.route_theta = [] \n",
    "        \n",
    "    def track_route(self): \n",
    "        \n",
    "        self.route_x.append(self.current_position.x)\n",
    "        \n",
    "        self.route_y.append(self.current_position.y)\n",
    "        \n",
    "        self.route_theta.append(self.current_position.theta)\n",
    "        \n",
    "   \n",
    "    def give_route(self): \n",
    "        \n",
    "        time = [i*self.dt for i in range(len(self.route_x))]\n",
    "        \n",
    "        return self.route_x, self.route_y, self.route_theta, time \n",
    "    \n",
    "    def fixAngle(self,angle): \n",
    "        \n",
    "        return np.arctan2(np.sin(angle), np.cos(angle))\n",
    "                          \n",
    "    def iterate(self): \n",
    "        \"\"\"\n",
    "        Method for the pid tuning using RL\n",
    "        \n",
    "        \"\"\"\n",
    "                          \n",
    "        dx = self.goal.x - self.current_position.x \n",
    "                          \n",
    "        dy = self.goal.y -self.current_position.y \n",
    "                          \n",
    "        g_theta = np.arctan2(dy, dx)\n",
    "        \n",
    "        alpha = g_theta - self.current_position.theta\n",
    "                          \n",
    "        e = np.arctan2(np.sin(alpha), np.cos(alpha))\n",
    "                          \n",
    "        \n",
    "        e_p = e\n",
    "        \n",
    "        e_I = self.E + e \n",
    "        \n",
    "        e_D = e -self.old_e \n",
    "        \n",
    "        self.E = self.E + e\n",
    "        \n",
    "        self.old_e = e\n",
    "        \n",
    "        a =np.array([e_p,e_I,e_D])\n",
    "        \n",
    "        return a \n",
    "          \n",
    "    def iterate_with_gains(self,k,ki,kd): \n",
    "                          \n",
    "        \"\"\"\n",
    "        this function should only be used once the controller parameters have been found, \n",
    "        it is not part of the training (at least for validation and testing)\n",
    "        \"\"\"\n",
    "        \n",
    "        dx = self.goal.x - self.current_position.x  \n",
    "        \n",
    "        dy = self.goal.y -self.current_position.y   \n",
    "   \n",
    "        g_theta = np.arctan2(dy, dx)\n",
    "        \n",
    "    \n",
    "        alpha = g_theta - self.current_position.theta\n",
    "   \n",
    "        e = np.arctan2(np.sin(alpha), np.cos(alpha))\n",
    "\n",
    "        e_p = e \n",
    "        \n",
    "        e_I = self.E + e \n",
    "        \n",
    "        e_D = e -self.old_e \n",
    "        \n",
    "        self.E = self.E + e\n",
    "        \n",
    "        self.old_e = e\n",
    "        \n",
    "        w = k*e_p + ki*e_I + kd*e_D\n",
    "        \n",
    "        return w \n",
    "    \n",
    "    def make_action(self, w):\n",
    "      \n",
    "        x_dt = self.v*np.cos(self.current_position.theta)   \n",
    "        \n",
    "        y_dt = self.v*np.sin(self.current_position.theta)\n",
    "        \n",
    "        \n",
    "        \n",
    "        a = self.current_position.x + x_dt * self.dt\n",
    "        \n",
    "        b = self.current_position.y + y_dt * self.dt\n",
    "        \n",
    "  \n",
    "        \n",
    "\n",
    "        self.current_position.x = self.current_position.x + x_dt * self.dt\n",
    "        \n",
    "        self.current_position.y = self.current_position.y + y_dt * self.dt\n",
    "        \n",
    "        theta_dt = w\n",
    "        self.current_position.theta = (self.fixAngle(\n",
    "            self.current_position.theta + self.fixAngle(theta_dt * self.dt))).squeeze(-1)\n",
    "       \n",
    "        \n",
    "        return \n",
    "                          \n",
    "    def isArrived(self):\n",
    "                          \n",
    "        distance = self.current_position.distance_form_state(self.goal)\n",
    "        \n",
    "        if distance < self.arrive_distance:\n",
    "        \n",
    "            return True\n",
    "        else:\n",
    "            return False\n",
    "    \n",
    "    \n",
    "    "
   ]
  },
  {
   "cell_type": "code",
   "execution_count": 4,
   "metadata": {},
   "outputs": [],
   "source": [
    "#initialize the agent for the pid tuning \n",
    "#the agent takes as input the error state and decide the next action\n",
    "#the action is the angular velocity of the robot "
   ]
  },
  {
   "cell_type": "code",
   "execution_count": 159,
   "metadata": {},
   "outputs": [],
   "source": [
    "agent = Agent(3,chkpt_dir = \"model_\") # ,device='cpu') \n"
   ]
  },
  {
   "cell_type": "code",
   "execution_count": 12,
   "metadata": {},
   "outputs": [],
   "source": [
    "EPISODES = 2000\n",
    "best_score = -111000\n",
    "score_history = [] \n",
    "expl_noise = 0.25"
   ]
  },
  {
   "cell_type": "code",
   "execution_count": 13,
   "metadata": {},
   "outputs": [],
   "source": [
    "np.random.seed(15)"
   ]
  },
  {
   "cell_type": "code",
   "execution_count": 14,
   "metadata": {},
   "outputs": [],
   "source": [
    "test = False "
   ]
  },
  {
   "cell_type": "code",
   "execution_count": 15,
   "metadata": {},
   "outputs": [],
   "source": [
    "#training "
   ]
  },
  {
   "cell_type": "code",
   "execution_count": 16,
   "metadata": {},
   "outputs": [
    {
     "name": "stdout",
     "output_type": "stream",
     "text": [
      "Results during training procedure:\n",
      "episode  0 score -5411.8 average score -5411.8\n",
      "End of warmup\n",
      "Results during training procedure:\n",
      "episode  10 score 197.9 average score -661.6\n",
      "Results during training procedure:\n",
      "episode  20 score 113.5 average score -283.5\n",
      "Results during training procedure:\n",
      "episode  30 score 100.8 average score -141.9\n",
      "Results during training procedure:\n",
      "episode  40 score 179.2 average score -82.6\n",
      "Results during training procedure:\n",
      "episode  50 score 184.9 average score 73.6\n",
      "Results during training procedure:\n",
      "episode  60 score 195.4 average score 147.4\n",
      "Results during training procedure:\n",
      "episode  70 score 185.0 average score 158.4\n",
      "Results during training procedure:\n",
      "episode  80 score 187.0 average score 165.5\n",
      "Results during training procedure:\n",
      "episode  90 score 197.8 average score 184.0\n",
      "Results during training procedure:\n",
      "episode  100 score 198.2 average score 189.1\n",
      "Results during training procedure:\n",
      "episode  110 score 187.5 average score 189.8\n",
      "Results during training procedure:\n",
      "episode  120 score 198.8 average score 191.5\n",
      "Results during training procedure:\n",
      "episode  130 score 199.2 average score 191.2\n",
      "Results during training procedure:\n",
      "episode  140 score 180.6 average score 190.2\n",
      "Results during training procedure:\n",
      "episode  150 score 196.3 average score 191.2\n",
      "Results during training procedure:\n",
      "episode  160 score 198.1 average score 193.0\n",
      "Results during training procedure:\n",
      "episode  170 score 175.2 average score 192.6\n",
      "Results during training procedure:\n",
      "episode  180 score 174.9 average score 192.2\n",
      "Results during training procedure:\n",
      "episode  190 score 197.6 average score 192.7\n",
      "Results during training procedure:\n",
      "episode  200 score 194.6 average score 192.3\n",
      "Results during training procedure:\n",
      "episode  210 score 196.7 average score 191.4\n",
      "Results during training procedure:\n",
      "episode  220 score 198.7 average score 191.2\n",
      "Results during training procedure:\n",
      "episode  230 score 178.2 average score 191.7\n",
      "Results during training procedure:\n",
      "episode  240 score 195.1 average score 192.0\n",
      "Results during training procedure:\n",
      "episode  250 score 191.0 average score 192.0\n",
      "Results during training procedure:\n",
      "episode  260 score 199.1 average score 192.9\n",
      "Results during training procedure:\n",
      "episode  270 score 195.3 average score 193.9\n",
      "Results during training procedure:\n",
      "episode  280 score 189.3 average score 194.1\n",
      "Results during training procedure:\n",
      "episode  290 score 199.1 average score 194.1\n",
      "Results during training procedure:\n",
      "episode  300 score 199.5 average score 195.2\n",
      "Results during training procedure:\n",
      "episode  310 score 199.7 average score 194.8\n",
      "Results during training procedure:\n",
      "episode  320 score 199.6 average score 193.8\n",
      "Results during training procedure:\n",
      "episode  330 score 199.7 average score 194.1\n",
      "Results during training procedure:\n",
      "episode  340 score 194.6 average score 194.7\n",
      "Results during training procedure:\n",
      "episode  350 score 199.6 average score 193.5\n",
      "Results during training procedure:\n",
      "episode  360 score 179.3 average score 191.7\n",
      "Results during training procedure:\n",
      "episode  370 score 199.7 average score 191.9\n",
      "Results during training procedure:\n",
      "episode  380 score 199.6 average score 191.8\n",
      "Results during training procedure:\n",
      "episode  390 score 185.3 average score 191.1\n",
      "Results during training procedure:\n",
      "episode  400 score 199.2 average score 191.2\n",
      "Results during training procedure:\n",
      "episode  410 score 177.8 average score 192.2\n",
      "Results during training procedure:\n",
      "episode  420 score 197.3 average score 191.4\n",
      "Results during training procedure:\n",
      "episode  430 score 199.6 average score 192.5\n",
      "Results during training procedure:\n",
      "episode  440 score 193.8 average score 192.1\n",
      "Results during training procedure:\n",
      "episode  450 score 199.3 average score 191.0\n",
      "Results during training procedure:\n",
      "episode  460 score 199.5 average score 190.8\n",
      "Results during training procedure:\n",
      "episode  470 score 179.8 average score 189.0\n",
      "Results during training procedure:\n",
      "episode  480 score 189.5 average score 186.7\n",
      "Results during training procedure:\n",
      "episode  490 score 199.3 average score 185.4\n",
      "Results during training procedure:\n",
      "episode  500 score 185.3 average score 185.2\n",
      "Results during training procedure:\n",
      "episode  510 score 141.6 average score 183.3\n",
      "Results during training procedure:\n",
      "episode  520 score 184.7 average score 185.6\n",
      "Results during training procedure:\n",
      "episode  530 score 189.1 average score 186.0\n",
      "Results during training procedure:\n",
      "episode  540 score 148.0 average score 185.4\n",
      "Results during training procedure:\n",
      "episode  550 score 198.6 average score 186.8\n",
      "Results during training procedure:\n",
      "episode  560 score 198.9 average score 187.7\n",
      "Results during training procedure:\n",
      "episode  570 score 197.0 average score 183.4\n",
      "Results during training procedure:\n",
      "episode  580 score 195.7 average score 182.6\n",
      "Results during training procedure:\n",
      "episode  590 score 198.5 average score 184.5\n",
      "Results during training procedure:\n",
      "episode  600 score 198.7 average score 181.5\n",
      "Results during training procedure:\n",
      "episode  610 score 134.5 average score 181.6\n",
      "Results during training procedure:\n",
      "episode  620 score 132.0 average score 182.7\n",
      "Results during training procedure:\n",
      "episode  630 score 198.0 average score 182.5\n",
      "Results during training procedure:\n",
      "episode  640 score 122.8 average score 182.1\n",
      "Results during training procedure:\n",
      "episode  650 score 185.2 average score 184.5\n",
      "Results during training procedure:\n",
      "episode  660 score 188.3 average score 182.7\n",
      "Results during training procedure:\n",
      "episode  670 score 191.5 average score 185.8\n",
      "Results during training procedure:\n",
      "episode  680 score 166.8 average score 185.8\n",
      "Results during training procedure:\n",
      "episode  690 score 198.7 average score 184.4\n",
      "Results during training procedure:\n",
      "episode  700 score 198.7 average score 184.9\n",
      "Results during training procedure:\n",
      "episode  710 score 115.9 average score 182.6\n",
      "Results during training procedure:\n",
      "episode  720 score 128.8 average score 177.9\n",
      "Results during training procedure:\n",
      "episode  730 score 198.7 average score 180.0\n",
      "Results during training procedure:\n",
      "episode  740 score 187.8 average score 179.3\n",
      "Results during training procedure:\n",
      "episode  750 score 197.9 average score 177.8\n",
      "Results during training procedure:\n",
      "episode  760 score 136.7 average score 178.4\n",
      "Results during training procedure:\n",
      "episode  770 score 175.5 average score 180.8\n",
      "Results during training procedure:\n",
      "episode  780 score 198.8 average score 179.7\n",
      "Results during training procedure:\n",
      "episode  790 score 168.6 average score 180.4\n",
      "Results during training procedure:\n",
      "episode  800 score 184.7 average score 181.7\n",
      "Results during training procedure:\n",
      "episode  810 score 197.1 average score 176.9\n",
      "Results during training procedure:\n",
      "episode  820 score 130.3 average score 176.1\n",
      "Results during training procedure:\n",
      "episode  830 score 105.7 average score 171.9\n",
      "Results during training procedure:\n",
      "episode  840 score 191.0 average score 170.4\n",
      "Results during training procedure:\n",
      "episode  850 score 115.4 average score 165.5\n",
      "Results during training procedure:\n",
      "episode  860 score 197.7 average score 170.4\n",
      "Results during training procedure:\n",
      "episode  870 score 115.5 average score 170.8\n",
      "Results during training procedure:\n",
      "episode  880 score 198.1 average score 174.1\n",
      "Results during training procedure:\n",
      "episode  890 score 198.0 average score 174.2\n",
      "Results during training procedure:\n",
      "episode  900 score 185.4 average score 179.0\n",
      "Results during training procedure:\n",
      "episode  910 score 197.5 average score 183.1\n",
      "Results during training procedure:\n",
      "episode  920 score 98.3 average score 177.3\n",
      "Results during training procedure:\n",
      "episode  930 score 191.1 average score 176.0\n",
      "Results during training procedure:\n",
      "episode  940 score 198.8 average score 179.3\n",
      "Results during training procedure:\n",
      "episode  950 score 191.5 average score 178.2\n",
      "Results during training procedure:\n",
      "episode  960 score 198.5 average score 175.9\n",
      "Results during training procedure:\n",
      "episode  970 score 173.6 average score 176.2\n",
      "Results during training procedure:\n",
      "episode  980 score 198.7 average score 178.8\n",
      "Results during training procedure:\n",
      "episode  990 score 172.8 average score 178.0\n",
      "Results during training procedure:\n",
      "episode  1000 score 194.0 average score 178.0\n",
      "Results during training procedure:\n",
      "episode  1010 score 136.7 average score 177.5\n",
      "Results during training procedure:\n",
      "episode  1020 score 159.5 average score 181.6\n"
     ]
    },
    {
     "name": "stdout",
     "output_type": "stream",
     "text": [
      "Results during training procedure:\n",
      "episode  1030 score 198.8 average score 179.8\n",
      "Results during training procedure:\n",
      "episode  1040 score 198.8 average score 180.8\n",
      "Results during training procedure:\n",
      "episode  1050 score 146.3 average score 179.5\n",
      "Results during training procedure:\n",
      "episode  1060 score 198.8 average score 181.1\n",
      "Results during training procedure:\n",
      "episode  1070 score 198.6 average score 181.3\n",
      "Results during training procedure:\n",
      "episode  1080 score 198.9 average score 182.9\n",
      "Results during training procedure:\n",
      "episode  1090 score 198.4 average score 182.2\n",
      "Results during training procedure:\n",
      "episode  1100 score 181.0 average score 184.5\n",
      "Results during training procedure:\n",
      "episode  1110 score 198.3 average score 184.9\n",
      "Results during training procedure:\n",
      "episode  1120 score 197.9 average score 187.2\n",
      "Results during training procedure:\n",
      "episode  1130 score 198.9 average score 188.2\n",
      "Results during training procedure:\n",
      "episode  1140 score 193.4 average score 186.0\n",
      "Results during training procedure:\n",
      "episode  1150 score 176.7 average score 185.8\n",
      "Results during training procedure:\n",
      "episode  1160 score 198.9 average score 185.6\n",
      "Results during training procedure:\n",
      "episode  1170 score 180.1 average score 185.6\n",
      "Results during training procedure:\n",
      "episode  1180 score 170.6 average score 184.5\n",
      "Results during training procedure:\n",
      "episode  1190 score 154.0 average score 185.5\n",
      "Results during training procedure:\n",
      "episode  1200 score 187.8 average score 184.5\n",
      "Results during training procedure:\n",
      "episode  1210 score 198.9 average score 186.3\n",
      "Results during training procedure:\n",
      "episode  1220 score 190.5 average score 186.2\n",
      "Results during training procedure:\n",
      "episode  1230 score 199.0 average score 186.5\n",
      "Results during training procedure:\n",
      "episode  1240 score 199.5 average score 187.3\n",
      "Results during training procedure:\n",
      "episode  1250 score 196.9 average score 188.4\n",
      "Results during training procedure:\n",
      "episode  1260 score 182.2 average score 188.5\n",
      "Results during training procedure:\n",
      "episode  1270 score 198.1 average score 190.0\n",
      "Results during training procedure:\n",
      "episode  1280 score 196.5 average score 191.4\n",
      "Results during training procedure:\n",
      "episode  1290 score 199.3 average score 192.9\n",
      "Results during training procedure:\n",
      "episode  1300 score 196.5 average score 193.2\n",
      "Results during training procedure:\n",
      "episode  1310 score 180.7 average score 192.2\n",
      "Results during training procedure:\n",
      "episode  1320 score 175.4 average score 191.9\n",
      "Results during training procedure:\n",
      "episode  1330 score 195.8 average score 191.7\n",
      "Results during training procedure:\n",
      "episode  1340 score 184.1 average score 190.2\n",
      "Results during training procedure:\n",
      "episode  1350 score 199.7 average score 190.8\n",
      "Results during training procedure:\n",
      "episode  1360 score 186.2 average score 192.6\n",
      "Results during training procedure:\n",
      "episode  1370 score 199.0 average score 191.7\n",
      "Results during training procedure:\n",
      "episode  1380 score 199.1 average score 191.7\n",
      "Results during training procedure:\n",
      "episode  1390 score 192.2 average score 192.7\n",
      "Results during training procedure:\n",
      "episode  1400 score 190.5 average score 193.1\n",
      "Results during training procedure:\n",
      "episode  1410 score 174.9 average score 191.8\n",
      "Results during training procedure:\n",
      "episode  1420 score 168.8 average score 193.1\n",
      "Results during training procedure:\n",
      "episode  1430 score 199.7 average score 192.6\n",
      "Results during training procedure:\n",
      "episode  1440 score 176.9 average score 192.4\n",
      "Results during training procedure:\n",
      "episode  1450 score 188.0 average score 191.8\n",
      "Results during training procedure:\n",
      "episode  1460 score 178.3 average score 192.6\n",
      "Results during training procedure:\n",
      "episode  1470 score 177.3 average score 191.4\n",
      "Results during training procedure:\n",
      "episode  1480 score 199.5 average score 191.5\n",
      "Results during training procedure:\n",
      "episode  1490 score 196.6 average score 191.8\n",
      "Results during training procedure:\n",
      "episode  1500 score 184.4 average score 190.1\n",
      "Results during training procedure:\n",
      "episode  1510 score 179.5 average score 188.0\n",
      "Results during training procedure:\n",
      "episode  1520 score 155.7 average score 186.5\n",
      "Results during training procedure:\n",
      "episode  1530 score 199.3 average score 186.3\n",
      "Results during training procedure:\n",
      "episode  1540 score 198.3 average score 184.6\n",
      "Results during training procedure:\n",
      "episode  1550 score 196.2 average score 187.0\n",
      "Results during training procedure:\n",
      "episode  1560 score 197.3 average score 188.2\n",
      "Results during training procedure:\n",
      "episode  1570 score 196.2 average score 190.1\n",
      "Results during training procedure:\n",
      "episode  1580 score 154.7 average score 189.2\n",
      "Results during training procedure:\n",
      "episode  1590 score 199.1 average score 189.2\n",
      "Results during training procedure:\n",
      "episode  1600 score 199.4 average score 187.2\n",
      "Results during training procedure:\n",
      "episode  1610 score 195.0 average score 185.9\n",
      "Results during training procedure:\n",
      "episode  1620 score 197.7 average score 186.7\n",
      "Results during training procedure:\n",
      "episode  1630 score 169.1 average score 186.7\n",
      "Results during training procedure:\n",
      "episode  1640 score 193.4 average score 186.1\n",
      "Results during training procedure:\n",
      "episode  1650 score 151.2 average score 187.1\n",
      "Results during training procedure:\n",
      "episode  1660 score 198.1 average score 189.6\n",
      "Results during training procedure:\n",
      "episode  1670 score 181.4 average score 188.7\n",
      "Results during training procedure:\n",
      "episode  1680 score 199.2 average score 188.7\n",
      "Results during training procedure:\n",
      "episode  1690 score 185.9 average score 189.2\n",
      "Results during training procedure:\n",
      "episode  1700 score 190.8 average score 188.2\n",
      "Results during training procedure:\n",
      "episode  1710 score 192.2 average score 187.1\n",
      "Results during training procedure:\n",
      "episode  1720 score 199.1 average score 186.4\n",
      "Results during training procedure:\n",
      "episode  1730 score 197.6 average score 186.1\n",
      "Results during training procedure:\n",
      "episode  1740 score 198.6 average score 184.9\n",
      "Results during training procedure:\n",
      "episode  1750 score 197.2 average score 185.0\n",
      "Results during training procedure:\n",
      "episode  1760 score 199.3 average score 184.3\n",
      "Results during training procedure:\n",
      "episode  1770 score 194.7 average score 185.7\n",
      "Results during training procedure:\n",
      "episode  1780 score 192.6 average score 187.1\n",
      "Results during training procedure:\n",
      "episode  1790 score 197.4 average score 190.2\n",
      "Results during training procedure:\n",
      "episode  1800 score 198.8 average score 190.6\n",
      "Results during training procedure:\n",
      "episode  1810 score 199.0 average score 191.2\n",
      "Results during training procedure:\n",
      "episode  1820 score 191.5 average score 190.5\n",
      "Results during training procedure:\n",
      "episode  1830 score 146.4 average score 189.2\n",
      "Results during training procedure:\n",
      "episode  1840 score 191.6 average score 187.7\n",
      "Results during training procedure:\n",
      "episode  1850 score 167.1 average score 187.2\n",
      "Results during training procedure:\n",
      "episode  1860 score 198.2 average score 186.5\n",
      "Results during training procedure:\n",
      "episode  1870 score 198.3 average score 186.0\n",
      "Results during training procedure:\n",
      "episode  1880 score 196.5 average score 186.4\n",
      "Results during training procedure:\n",
      "episode  1890 score 196.1 average score 187.4\n",
      "Results during training procedure:\n",
      "episode  1900 score 199.2 average score 187.9\n",
      "Results during training procedure:\n",
      "episode  1910 score 184.1 average score 188.4\n",
      "Results during training procedure:\n",
      "episode  1920 score 184.2 average score 189.8\n",
      "Results during training procedure:\n",
      "episode  1930 score 196.5 average score 190.2\n",
      "Results during training procedure:\n",
      "episode  1940 score 199.3 average score 190.2\n",
      "Results during training procedure:\n",
      "episode  1950 score 174.0 average score 190.9\n",
      "Results during training procedure:\n",
      "episode  1960 score 179.1 average score 191.6\n",
      "Results during training procedure:\n",
      "episode  1970 score 174.4 average score 190.6\n",
      "Results during training procedure:\n",
      "episode  1980 score 189.8 average score 191.2\n",
      "Results during training procedure:\n",
      "episode  1990 score 193.9 average score 191.7\n",
      "1999\r"
     ]
    }
   ],
   "source": [
    "for i in range(EPISODES): \n",
    "\n",
    "    print(i, end='\\r')\n",
    "    \n",
    "    a = np.random.uniform(-40,40,2)\n",
    "    \n",
    "    b = np.random.uniform(0,90,2)\n",
    "    \n",
    "    spatial_state = State(a[0],a[1],np.radians(b[0]))\n",
    "    \n",
    "    target_distance = 0 \n",
    "    \n",
    "    while (target_distance<36 or target_distance>38):\n",
    "        \n",
    "        t_coord = np.random.uniform(-40,40,2)\n",
    "        \n",
    "        target = State(t_coord[0],t_coord[1],np.radians(b[0]))\n",
    "        \n",
    "        target_distance = spatial_state.distance_form_state(target)\n",
    "        \n",
    "        # I make sure that the distance between start_position and goal is on average the same \n",
    "        #so that the reward is balanced \n",
    "        \n",
    "    controller = Controller(target,spatial_state)\n",
    "    \n",
    "    done = False \n",
    "    \n",
    "    error_state = controller.iterate()\n",
    "    \n",
    "    score = 0 \n",
    "    \n",
    "    expl_noise = 0.25 \n",
    "    \n",
    "    num_steps = 0 \n",
    "    \n",
    "    h = 0 \n",
    "    \n",
    "    while not done: \n",
    "        \n",
    "        h+=1 \n",
    "        \n",
    "        num_steps += 1 \n",
    "        \n",
    "        action = agent.choose_action(error_state, expl_noise)\n",
    "        \n",
    "        controller.make_action(action)\n",
    "        \n",
    "        done_ = controller.isArrived() \n",
    "        \n",
    "        new_error_state = controller.iterate() \n",
    "        \n",
    "        if done_: \n",
    "            \n",
    "            reward = 200 \n",
    "            \n",
    "        else : \n",
    "            \n",
    "            reward = -new_error_state[0]**2\n",
    "            \n",
    "        \n",
    "        done = done_ \n",
    "        \n",
    "        if num_steps>=800: \n",
    "            \n",
    "            done = True \n",
    "            \n",
    "        agent.store_transition(error_state, action, reward, new_error_state, done)\n",
    "        \n",
    "        error_state = new_error_state \n",
    "        \n",
    "        agent.train() \n",
    "        \n",
    "        score += reward \n",
    "        \n",
    "    score_history.append(score)   \n",
    "    avg_score = np.mean(score_history[-50:])\n",
    "        \n",
    "        \n",
    "    if avg_score > best_score:  \n",
    "        \n",
    "        best_score = avg_score \n",
    "    \n",
    "        agent.save_models() \n",
    "        \n",
    "    if(i%10==0): \n",
    "        \n",
    "        print(\"Results during training procedure:\") \n",
    "            \n",
    "        print('episode ', i, 'score %.1f' % score, 'average score %.1f' % avg_score)\n",
    "                    \n",
    "        \n",
    "        \n",
    "     \n",
    "    "
   ]
  },
  {
   "cell_type": "code",
   "execution_count": 17,
   "metadata": {},
   "outputs": [],
   "source": [
    "x = [i for i in range(len(score_history))]"
   ]
  },
  {
   "cell_type": "code",
   "execution_count": 20,
   "metadata": {},
   "outputs": [
    {
     "data": {
      "image/png": "[encoded data removed]",
      "text/plain": [
       "<Figure size 432x288 with 1 Axes>"
      ]
     },
     "metadata": {
      "needs_background": "light"
     },
     "output_type": "display_data"
    }
   ],
   "source": [
    "plot_average_reward(x,score_history,\"Training.png\")"
   ]
  },
  {
   "cell_type": "code",
   "execution_count": 32,
   "metadata": {},
   "outputs": [],
   "source": [
    "xx = x[2:]\n",
    "score_history_ = score_history[2:]"
   ]
  },
  {
   "cell_type": "code",
   "execution_count": 35,
   "metadata": {},
   "outputs": [
    {
     "data": {
      "image/png": "[encoded data removed]",
      "text/plain": [
       "<Figure size 432x288 with 1 Axes>"
      ]
     },
     "metadata": {
      "needs_background": "light"
     },
     "output_type": "display_data"
    }
   ],
   "source": [
    "plot_average_reward(xx,score_history_,\"Training_2.png\")"
   ]
  },
  {
   "cell_type": "code",
   "execution_count": 36,
   "metadata": {},
   "outputs": [],
   "source": [
    "#I use the pid parameters of the best model, because now in the agent are saved the acor weights of the final model"
   ]
  },
  {
   "cell_type": "code",
   "execution_count": 124,
   "metadata": {},
   "outputs": [],
   "source": [
    "#load best model \n",
    "agent.load_actor() "
   ]
  },
  {
   "cell_type": "code",
   "execution_count": 4,
   "metadata": {},
   "outputs": [],
   "source": [
    "#previous model saved \n",
    "agent = Agent(3,chkpt_dir = \"slow_model\") "
   ]
  },
  {
   "cell_type": "code",
   "execution_count": 5,
   "metadata": {},
   "outputs": [],
   "source": [
    "agent.load_actor()"
   ]
  },
  {
   "cell_type": "code",
   "execution_count": 6,
   "metadata": {},
   "outputs": [],
   "source": [
    "#pid parameters -> weights of the actor \n",
    "k = abs(agent.actor.mu.weight[0].item())\n",
    "ki= abs(agent.actor.mu.weight[1].item())\n",
    "kd = abs(agent.actor.mu.weight[2].item())"
   ]
  },
  {
   "cell_type": "code",
   "execution_count": 7,
   "metadata": {},
   "outputs": [],
   "source": [
    "np.random.seed(10)"
   ]
  },
  {
   "cell_type": "code",
   "execution_count": 8,
   "metadata": {},
   "outputs": [],
   "source": [
    "test_ep=5"
   ]
  },
  {
   "cell_type": "code",
   "execution_count": 9,
   "metadata": {},
   "outputs": [],
   "source": [
    "x = []\n",
    "y = []\n",
    "th = []\n",
    "t = [] \n",
    "target_list = [] "
   ]
  },
  {
   "cell_type": "code",
   "execution_count": 10,
   "metadata": {},
   "outputs": [
    {
     "name": "stdout",
     "output_type": "stream",
     "text": [
      "episode  0 success\n",
      "episode  1 success\n",
      "episode  2 success\n",
      "episode  3 success\n",
      "episode  4 success\n"
     ]
    }
   ],
   "source": [
    "for i in range(test_ep): \n",
    "    \n",
    "    a = np.random.uniform(-40,40,4)\n",
    "    \n",
    "    b = np.random.uniform(0,90,2)\n",
    "    \n",
    "    spatial_state = State(a[0],a[1],np.radians(b[0]))\n",
    "    \n",
    "    target = State(a[2],a[3],np.radians(b[1]))\n",
    "    target_list.append(target)\n",
    "    controller = Controller(target,spatial_state)\n",
    "    \n",
    "    done = False \n",
    "    \n",
    "    num_steps = 0\n",
    "    \n",
    "    controller.track_route()\n",
    "    \n",
    "    while not done: \n",
    "        \n",
    "        w = controller.iterate_with_gains(k,ki,kd)\n",
    "        \n",
    "        controller.make_action(w) \n",
    "        \n",
    "        done = controller.isArrived() \n",
    "        \n",
    "        if done: \n",
    "            \n",
    "            print(\"episode \",i,\"success\")\n",
    "            \n",
    "        num_steps += 1 \n",
    "        \n",
    "        if num_steps >= 800: \n",
    "            \n",
    "            done = True \n",
    "            \n",
    "            print(\"Target not reached\")\n",
    "            \n",
    "        controller.track_route()\n",
    "        \n",
    "        if done: \n",
    "            \n",
    "            a,b,c,time = controller.give_route()\n",
    "            \n",
    "            x.append(a)\n",
    "            y.append(b)\n",
    "            th.append(c)\n",
    "            t.append(time)\n",
    "        \n",
    "                \n",
    "\n",
    "        \n",
    "        \n",
    "    \n",
    "    \n",
    "    \n",
    "    "
   ]
  },
  {
   "cell_type": "code",
   "execution_count": 11,
   "metadata": {},
   "outputs": [],
   "source": [
    "#reference signals \n",
    "ref = [] \n",
    "pid_dir = []"
   ]
  },
  {
   "cell_type": "code",
   "execution_count": 12,
   "metadata": {},
   "outputs": [],
   "source": [
    "for h in range (test_ep): \n",
    "    ref_ = []\n",
    "    pid_ = []\n",
    "    for i in range(len(x[h])-1): \n",
    "        xx = x[h]\n",
    "        yy = y[h]\n",
    "        target= target_list[h]\n",
    "        \n",
    "        dy = target.y - yy[i]\n",
    "        dx = target.x - xx[i]\n",
    "        \n",
    "        ref_.append(np.arctan2(dy,dx))\n",
    "        \n",
    "        dy = yy[i+1]-yy[i]\n",
    "        dx = xx[i+1] -xx[i]\n",
    "        \n",
    "        pid_.append(np.arctan2(dy,dx))\n",
    "    ref.append(ref_)\n",
    "    pid_dir.append(pid_)    "
   ]
  },
  {
   "cell_type": "code",
   "execution_count": 13,
   "metadata": {},
   "outputs": [],
   "source": [
    "i =0"
   ]
  },
  {
   "cell_type": "code",
   "execution_count": 15,
   "metadata": {},
   "outputs": [
    {
     "data": {
      "text/plain": [
       "<matplotlib.legend.Legend at 0x7f1ebaa1ae80>"
      ]
     },
     "execution_count": 15,
     "metadata": {},
     "output_type": "execute_result"
    },
    {
     "data": {
      "image/png": "[encoded data removed]",
      "text/plain": [
       "<Figure size 432x288 with 1 Axes>"
      ]
     },
     "metadata": {
      "needs_background": "light"
     },
     "output_type": "display_data"
    }
   ],
   "source": [
    "plt.plot(pid_dir[i],label='Actual Direction')\n",
    "plt.plot(ref[i],label = 'Desired Direction')\n",
    "plt.title(\"Signal\")\n",
    "plt.xlabel(\"steps\")\n",
    "plt.ylabel(\"Radians\")\n",
    "plt.legend(bbox_to_anchor=(1.0,0.7))"
   ]
  },
  {
   "cell_type": "code",
   "execution_count": 16,
   "metadata": {},
   "outputs": [],
   "source": [
    "x0 = np.asarray(pid_dir[0]) \n",
    "ref0 = np.asarray(ref[0])\n",
    "time0 = t[0]"
   ]
  },
  {
   "cell_type": "code",
   "execution_count": 17,
   "metadata": {},
   "outputs": [],
   "source": [
    "overshoot_ = overshoot(x0,ref0) "
   ]
  },
  {
   "cell_type": "code",
   "execution_count": 18,
   "metadata": {},
   "outputs": [
    {
     "data": {
      "text/plain": [
       "0.04087"
      ]
     },
     "execution_count": 18,
     "metadata": {},
     "output_type": "execute_result"
    }
   ],
   "source": [
    "overshoot_"
   ]
  },
  {
   "cell_type": "code",
   "execution_count": 19,
   "metadata": {},
   "outputs": [],
   "source": [
    "rise_time_ = rise_time(x0,ref0,time0)"
   ]
  },
  {
   "cell_type": "code",
   "execution_count": 20,
   "metadata": {},
   "outputs": [
    {
     "data": {
      "text/plain": [
       "1.4000000000000001"
      ]
     },
     "execution_count": 20,
     "metadata": {},
     "output_type": "execute_result"
    }
   ],
   "source": [
    "rise_time_ "
   ]
  },
  {
   "cell_type": "code",
   "execution_count": 21,
   "metadata": {},
   "outputs": [],
   "source": [
    "settling_time_ = settling_time(x0,ref0,t[0],perc=0.5)\n"
   ]
  },
  {
   "cell_type": "code",
   "execution_count": 22,
   "metadata": {},
   "outputs": [
    {
     "data": {
      "text/plain": [
       "58.900000000000006"
      ]
     },
     "execution_count": 22,
     "metadata": {},
     "output_type": "execute_result"
    }
   ],
   "source": [
    "t[0][-1]  #final time of simulation"
   ]
  },
  {
   "cell_type": "code",
   "execution_count": 23,
   "metadata": {},
   "outputs": [
    {
     "data": {
      "text/plain": [
       "11.4"
      ]
     },
     "execution_count": 23,
     "metadata": {},
     "output_type": "execute_result"
    }
   ],
   "source": [
    "settling_time_ "
   ]
  },
  {
   "cell_type": "code",
   "execution_count": 24,
   "metadata": {},
   "outputs": [],
   "source": [
    "err_ = steady_state_error(x0,ref0)"
   ]
  },
  {
   "cell_type": "code",
   "execution_count": 25,
   "metadata": {},
   "outputs": [
    {
     "data": {
      "text/plain": [
       "0.0001"
      ]
     },
     "execution_count": 25,
     "metadata": {},
     "output_type": "execute_result"
    }
   ],
   "source": [
    "err_ "
   ]
  },
  {
   "cell_type": "code",
   "execution_count": null,
   "metadata": {},
   "outputs": [],
   "source": []
  },
  {
   "cell_type": "code",
   "execution_count": 26,
   "metadata": {},
   "outputs": [],
   "source": [
    "targ = target_list[0]\n",
    "#animation \n",
    "animation_plot(x[0],y[0],targ.x,targ.y,file_name=\"animation_only_target.gif\")"
   ]
  },
  {
   "cell_type": "code",
   "execution_count": null,
   "metadata": {},
   "outputs": [],
   "source": []
  },
  {
   "cell_type": "code",
   "execution_count": null,
   "metadata": {},
   "outputs": [],
   "source": []
  },
  {
   "cell_type": "code",
   "execution_count": null,
   "metadata": {},
   "outputs": [],
   "source": []
  },
  {
   "cell_type": "code",
   "execution_count": null,
   "metadata": {},
   "outputs": [],
   "source": []
  },
  {
   "cell_type": "code",
   "execution_count": null,
   "metadata": {},
   "outputs": [],
   "source": []
  },
  {
   "cell_type": "code",
   "execution_count": null,
   "metadata": {},
   "outputs": [],
   "source": []
  }
 ],
 "metadata": {
  "kernelspec": {
   "display_name": "Python 3",
   "language": "python",
   "name": "python3"
  },
  "language_info": {
   "codemirror_mode": {
    "name": "ipython",
    "version": 3
   },
   "file_extension": ".py",
   "mimetype": "text/x-python",
   "name": "python",
   "nbconvert_exporter": "python",
   "pygments_lexer": "ipython3",
   "version": "3.8.10"
  }
 },
 "nbformat": 4,
 "nbformat_minor": 4
}
