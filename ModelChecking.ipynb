{
 "cells": [
  {
   "cell_type": "code",
   "execution_count": 1,
   "metadata": {},
   "outputs": [],
   "source": [
    "from moonlight import *\n",
    "import os\n",
    "os.environ['JAVA_HOME'] =\"/usr/lib/jvm/java-1.8.0-openjdk-amd64\"\n",
    "import numpy as np\n",
    "import matplotlib.pyplot as plt\n",
    "from scipy import ndimage\n",
    "import numpy as np\n",
    "import matplotlib.pyplot as plt \n",
    "import torch as T \n",
    "import torch.nn as nn \n",
    "import torch.nn.functional as F \n",
    "import torch.optim as optim \n",
    "import os \n",
    "from sys import path\n",
    "from copy import deepcopy\n",
    "path.append(\"/home/maria/Documenti/Università/CPS\") \n",
    "from utility import *\n",
    "from simulation import *\n",
    "import pickle"
   ]
  },
  {
   "cell_type": "code",
   "execution_count": 2,
   "metadata": {},
   "outputs": [],
   "source": [
    "dir_path = \"/home/maria/Documenti/Università/CPS\""
   ]
  },
  {
   "cell_type": "code",
   "execution_count": 3,
   "metadata": {},
   "outputs": [],
   "source": [
    "actor_path = \"/home/maria/Documenti/Università/CPS/slow_model\""
   ]
  },
  {
   "cell_type": "code",
   "execution_count": 4,
   "metadata": {},
   "outputs": [],
   "source": [
    "#test of model with noise, with kalman filter and with the behaviors \"reach goal \" and \"avoid obstacle\""
   ]
  },
  {
   "cell_type": "code",
   "execution_count": 5,
   "metadata": {},
   "outputs": [],
   "source": [
    "#I saved the coordinates of one obstacle to test the property that the robot \n",
    "#must never get closer to the obstacle of a certain distance, so I'm using the coordinate of the obstacle in the \n",
    "#script, this because I'm not using a scalar mieasure of the distance but I'm calculating the distance in the script,\n",
    "#in order to preserve the spatial structure of the problem "
   ]
  },
  {
   "cell_type": "code",
   "execution_count": 6,
   "metadata": {},
   "outputs": [],
   "source": [
    "obstacle_file = os.path.join(dir_path,\"obstacle.pickle\")"
   ]
  },
  {
   "cell_type": "code",
   "execution_count": 7,
   "metadata": {},
   "outputs": [],
   "source": [
    "with open(obstacle_file,'rb') as f: \n",
    "    obstacle :State = pickle.load(f)"
   ]
  },
  {
   "cell_type": "code",
   "execution_count": 8,
   "metadata": {},
   "outputs": [
    {
     "data": {
      "text/plain": [
       "17.17719188961165"
      ]
     },
     "execution_count": 8,
     "metadata": {},
     "output_type": "execute_result"
    }
   ],
   "source": [
    "obstacle.x\n"
   ]
  },
  {
   "cell_type": "code",
   "execution_count": 9,
   "metadata": {},
   "outputs": [
    {
     "data": {
      "text/plain": [
       "-16.66282030988458"
      ]
     },
     "execution_count": 9,
     "metadata": {},
     "output_type": "execute_result"
    }
   ],
   "source": [
    "obstacle.y"
   ]
  },
  {
   "cell_type": "code",
   "execution_count": 10,
   "metadata": {},
   "outputs": [],
   "source": [
    "state_space = []\n",
    "state_space_2 = [] \n",
    "state_space_3 = []\n",
    "target_space = []"
   ]
  },
  {
   "cell_type": "code",
   "execution_count": 11,
   "metadata": {},
   "outputs": [],
   "source": [
    "num_ = 40"
   ]
  },
  {
   "cell_type": "code",
   "execution_count": 12,
   "metadata": {},
   "outputs": [],
   "source": [
    "np.random.seed(71)\n"
   ]
  },
  {
   "cell_type": "code",
   "execution_count": 13,
   "metadata": {},
   "outputs": [],
   "source": [
    "for i in range(num_ +2): \n",
    "    while True: \n",
    "        a = np.random.uniform(-40,40,2)\n",
    "        b = np.random.uniform(0,90,3)\n",
    "        \n",
    "        spatial_state = State(a[0],a[1],np.radians(b[0]))\n",
    "        if spatial_state.distance_form_state(obstacle)>8:\n",
    "            \n",
    "            tx = 2*obstacle.x-spatial_state.x + np.random.normal(0,0.2)\n",
    "           # if tx>40 or tx<-40: \n",
    "               # break \n",
    "            ty = 2*obstacle.y-spatial_state.y +np.random.normal(0,0.2)\n",
    "            \n",
    "            target = State(tx,ty,np.radians(b[1]))\n",
    "            if (tx<40 and tx>-40)and(ty<40 and ty>-40): \n",
    "                break\n",
    "    state_space.append(spatial_state)\n",
    "    state_space_2.append(deepcopy(spatial_state))\n",
    "    state_space_3.append(deepcopy(spatial_state))                \n",
    "    target_space.append(target)      \n",
    "    "
   ]
  },
  {
   "cell_type": "code",
   "execution_count": null,
   "metadata": {},
   "outputs": [],
   "source": []
  },
  {
   "cell_type": "code",
   "execution_count": null,
   "metadata": {},
   "outputs": [],
   "source": []
  },
  {
   "cell_type": "code",
   "execution_count": 14,
   "metadata": {},
   "outputs": [],
   "source": [
    "n_sim = 1200 \n",
    "target = target_space[-1]"
   ]
  },
  {
   "cell_type": "code",
   "execution_count": 15,
   "metadata": {},
   "outputs": [],
   "source": [
    "#simulation without noise\n",
    "state_sp = deepcopy(state_space[-1])"
   ]
  },
  {
   "cell_type": "code",
   "execution_count": 16,
   "metadata": {},
   "outputs": [],
   "source": [
    "x,y,theta,t,string,_,_= simulation(state_sp,target,algo=0,sim=n_sim,obstacle=obstacle,path=actor_path,ob_noise=0.5,p_noise=0.1)"
   ]
  },
  {
   "cell_type": "code",
   "execution_count": 60,
   "metadata": {},
   "outputs": [],
   "source": [
    "file_animation = os.path.join(dir_path,\"animation.gif\")"
   ]
  },
  {
   "cell_type": "code",
   "execution_count": 62,
   "metadata": {},
   "outputs": [],
   "source": [
    "animation_plot(x,y,target.x,target.y,obstacle.x,obstacle.y,file_name=file_animation)"
   ]
  },
  {
   "cell_type": "code",
   "execution_count": 63,
   "metadata": {},
   "outputs": [],
   "source": [
    "#simulation with model with noise and kalman filter with observation noise 0.5 and process noise 0.1 "
   ]
  },
  {
   "cell_type": "code",
   "execution_count": 17,
   "metadata": {},
   "outputs": [],
   "source": [
    "x,y,theta,t,string,innovation,covariance= simulation(state_space[-1],target_space[-1],algo=2,sim=n_sim,obstacle=obstacle,path=actor_path,ob_noise=0.5,p_noise=0.1)"
   ]
  },
  {
   "cell_type": "code",
   "execution_count": 18,
   "metadata": {},
   "outputs": [
    {
     "data": {
      "text/plain": [
       "'arrived at episode272'"
      ]
     },
     "execution_count": 18,
     "metadata": {},
     "output_type": "execute_result"
    }
   ],
   "source": [
    "string "
   ]
  },
  {
   "cell_type": "code",
   "execution_count": 19,
   "metadata": {},
   "outputs": [],
   "source": [
    "file_animation = os.path.join(dir_path,\"animation_noise.gif\")"
   ]
  },
  {
   "cell_type": "code",
   "execution_count": 20,
   "metadata": {},
   "outputs": [],
   "source": [
    "animation_plot(x,y,target.x,target.y,obstacle.x,obstacle.y,file_name=file_animation)"
   ]
  },
  {
   "cell_type": "code",
   "execution_count": 21,
   "metadata": {},
   "outputs": [],
   "source": [
    "#check if the kalman filter is working "
   ]
  },
  {
   "cell_type": "code",
   "execution_count": 22,
   "metadata": {},
   "outputs": [
    {
     "name": "stderr",
     "output_type": "stream",
     "text": [
      "<ipython-input-22-d7c62e6dbb33>:2: RuntimeWarning: invalid value encountered in sqrt\n",
      "  covariance[i]=2*np.sqrt(covariance[i])\n"
     ]
    }
   ],
   "source": [
    "for i in range(len(covariance)): \n",
    "    covariance[i]=2*np.sqrt(covariance[i])"
   ]
  },
  {
   "cell_type": "code",
   "execution_count": 23,
   "metadata": {},
   "outputs": [],
   "source": [
    "innov_z = []\n",
    "innov_y = [] \n",
    "innov_x = [] \n",
    "std_z = [] \n",
    "std_y= [] \n",
    "std_x = []\n",
    "std_x_lower = []\n",
    "std_y_lower = []\n",
    "std_z_lower = []"
   ]
  },
  {
   "cell_type": "code",
   "execution_count": 24,
   "metadata": {},
   "outputs": [],
   "source": [
    "for i in range(len(innovation)): \n",
    "    innov_x.append(innovation[i][0])\n",
    "    std_x.append(covariance[i][0,0])\n",
    "    std_x_lower.append(-covariance[i][0,0])\n",
    "    innov_y.append(innovation[i][1])\n",
    "    std_y.append(covariance[i][1,1])\n",
    "    std_y_lower.append(-covariance[i][1,1])\n",
    "    innov_z.append(innovation[i][2])\n",
    "    std_z.append(covariance[i][2,2])\n",
    "    std_z_lower.append(-covariance[i][2,2])"
   ]
  },
  {
   "cell_type": "code",
   "execution_count": 25,
   "metadata": {},
   "outputs": [
    {
     "data": {
      "text/plain": [
       "[<matplotlib.lines.Line2D at 0x7fb3c92defa0>]"
      ]
     },
     "execution_count": 25,
     "metadata": {},
     "output_type": "execute_result"
    },
    {
     "data": {
      "image/png": "[encoded data removed]",
      "text/plain": [
       "<Figure size 432x288 with 1 Axes>"
      ]
     },
     "metadata": {
      "needs_background": "light"
     },
     "output_type": "display_data"
    }
   ],
   "source": [
    "plt.plot(innov_x)\n",
    "plt.plot(std_x)\n",
    "plt.plot(std_x_lower) "
   ]
  },
  {
   "cell_type": "code",
   "execution_count": 26,
   "metadata": {},
   "outputs": [
    {
     "data": {
      "text/plain": [
       "[<matplotlib.lines.Line2D at 0x7fb3c9229a30>]"
      ]
     },
     "execution_count": 26,
     "metadata": {},
     "output_type": "execute_result"
    },
    {
     "data": {
      "image/png": "[encoded data removed]",
      "text/plain": [
       "<Figure size 432x288 with 1 Axes>"
      ]
     },
     "metadata": {
      "needs_background": "light"
     },
     "output_type": "display_data"
    }
   ],
   "source": [
    "plt.plot(innov_y)\n",
    "plt.plot(std_y)\n",
    "plt.plot(std_y_lower) "
   ]
  },
  {
   "cell_type": "code",
   "execution_count": 27,
   "metadata": {},
   "outputs": [
    {
     "data": {
      "text/plain": [
       "[<matplotlib.lines.Line2D at 0x7fb3c918cbe0>]"
      ]
     },
     "execution_count": 27,
     "metadata": {},
     "output_type": "execute_result"
    },
    {
     "data": {
      "image/png": "[encoded data removed]",
      "text/plain": [
       "<Figure size 432x288 with 1 Axes>"
      ]
     },
     "metadata": {
      "needs_background": "light"
     },
     "output_type": "display_data"
    }
   ],
   "source": [
    "plt.plot(innov_z)\n",
    "plt.plot(std_z)\n",
    "plt.plot(std_z_lower) "
   ]
  },
  {
   "cell_type": "code",
   "execution_count": 22,
   "metadata": {},
   "outputs": [],
   "source": [
    "#VERIFICATION OF REQUIREMENTS \n",
    "\n",
    "#the quadratic distance of the robot to the obstacle must never be less or equal to 0.3 during all the simulation"
   ]
  },
  {
   "cell_type": "code",
   "execution_count": null,
   "metadata": {},
   "outputs": [],
   "source": []
  },
  {
   "cell_type": "code",
   "execution_count": 28,
   "metadata": {},
   "outputs": [],
   "source": [
    "script = \"\"\"\n",
    "signal { real x; real y;}\n",
    "domain minmax; \n",
    "formula safety = {globally[0,120]((((x-17.17719)*(x-17.17719))+((y+16.66282)*(y+16.66282)))>0.3)};\n",
    "\"\"\""
   ]
  },
  {
   "cell_type": "code",
   "execution_count": 29,
   "metadata": {},
   "outputs": [],
   "source": [
    "moonlightScript = ScriptLoader.loadFromText(script);\n",
    "safetyMonitor = moonlightScript.getMonitor(\"safety\"); "
   ]
  },
  {
   "cell_type": "code",
   "execution_count": 30,
   "metadata": {},
   "outputs": [],
   "source": [
    "ob_noise_ = 0.5\n",
    "p_noise_ =0.05"
   ]
  },
  {
   "cell_type": "code",
   "execution_count": 31,
   "metadata": {},
   "outputs": [],
   "source": [
    "robustness_kalman = [] \n",
    "robustness_only_noise = []\n",
    "robustness_no_noise = []\n"
   ]
  },
  {
   "cell_type": "code",
   "execution_count": 32,
   "metadata": {},
   "outputs": [],
   "source": [
    "#il seguente codice va eseguito solo una volta, se si ripete ricarivare la lista con gli stati "
   ]
  },
  {
   "cell_type": "code",
   "execution_count": 33,
   "metadata": {},
   "outputs": [],
   "source": [
    "for h in range(num_):\n",
    "    state = state_space[h]\n",
    "    state_1=deepcopy(state)\n",
    "    state_2=deepcopy(state)\n",
    "    target = target_space[h]\n",
    "    #first verification with noise using a kalman filter \n",
    "    x,y,theta,t,string,innovation,covariance = simulation(state,target,algo=2,sim=n_sim,obstacle=obstacle,path=actor_path,ob_noise=ob_noise_,p_noise=p_noise_)\n",
    "    xx = np.array(x)\n",
    "    yy = np.array(y)\n",
    "    signals = list(zip(xx,yy))\n",
    "    safetyMonitorResult = safetyMonitor.monitor(t,signals)\n",
    "    \n",
    "   # print(\"robustness kalman filter \",safetyMonitorResult[0][1])\n",
    "    robustness_kalman.append(round(safetyMonitorResult[0][1],3))\n",
    "    x,y,theta,t,string,innovation,covariance = simulation(state_1,target,algo=1,sim=n_sim,obstacle=obstacle,path=actor_path,ob_noise=ob_noise_,p_noise=p_noise_)\n",
    "    xx = np.array(x)\n",
    "    yy = np.array(y)\n",
    "    signals = list(zip(xx,yy))\n",
    "    safetyMonitorResult = safetyMonitor.monitor(t,signals)\n",
    "    #print(\"robustness only noise \",safetyMonitorResult[0][1])\n",
    "    robustness_only_noise.append(round(safetyMonitorResult[0][1],3))\n",
    "    \n",
    "    x,y,theta,t,string,innovation,covariance = simulation(state_2,target,algo=0,sim=n_sim,obstacle=obstacle,path=actor_path)\n",
    "    xx = np.array(x)\n",
    "    yy = np.array(y)\n",
    "    signals = list(zip(xx,yy))\n",
    "    safetyMonitorResult = safetyMonitor.monitor(t,signals)\n",
    "    #print(\"robustness no noise \",safetyMonitorResult[0][1])\n",
    "    robustness_no_noise.append(round(safetyMonitorResult[0][1],3))\n",
    "    "
   ]
  },
  {
   "cell_type": "code",
   "execution_count": 34,
   "metadata": {},
   "outputs": [],
   "source": [
    "\n",
    "req_safety = os.path.join(dir_path, \"req_safety.txt\")\n"
   ]
  },
  {
   "cell_type": "code",
   "execution_count": 35,
   "metadata": {},
   "outputs": [],
   "source": [
    "with open(req_safety,'w') as f: \n",
    "    f.write(\"Robustness of the model with process noise 0.05 and observation noise 0.5\\n\")\n",
    "    f.write(\"kalman_rob\\tonly_noise_rob\\tno_noise_rob\\n\")  \n",
    "    for i in range(num_):\n",
    "        f.write(str(robustness_kalman[i])+\"\\t\\t\"+str(robustness_only_noise[i])+\"\\t\\t\"+str(robustness_no_noise[i])+\"\\n\")\n",
    "        \n",
    "  \n",
    "            \n",
    "            "
   ]
  },
  {
   "cell_type": "code",
   "execution_count": 36,
   "metadata": {},
   "outputs": [
    {
     "data": {
      "text/plain": [
       "4.0116"
      ]
     },
     "execution_count": 36,
     "metadata": {},
     "output_type": "execute_result"
    }
   ],
   "source": [
    "mean_kalman_r = np.mean(np.asarray(robustness_kalman))\n",
    "mean_kalman_r\n"
   ]
  },
  {
   "cell_type": "code",
   "execution_count": 37,
   "metadata": {},
   "outputs": [
    {
     "data": {
      "text/plain": [
       "3.3534999999999995"
      ]
     },
     "execution_count": 37,
     "metadata": {},
     "output_type": "execute_result"
    }
   ],
   "source": [
    "mean_only_noise_r = np.mean(np.asarray(robustness_only_noise))\n",
    "mean_only_noise_r"
   ]
  },
  {
   "cell_type": "code",
   "execution_count": 38,
   "metadata": {},
   "outputs": [
    {
     "data": {
      "text/plain": [
       "4.3142499999999995"
      ]
     },
     "execution_count": 38,
     "metadata": {},
     "output_type": "execute_result"
    }
   ],
   "source": [
    "mean_rob_no_noise = np.mean(np.asarray(robustness_no_noise))\n",
    "mean_rob_no_noise"
   ]
  },
  {
   "cell_type": "code",
   "execution_count": 39,
   "metadata": {},
   "outputs": [],
   "source": [
    "#falsification of this property \n",
    "#I use the other list because the initial state of the old list is changed "
   ]
  },
  {
   "cell_type": "code",
   "execution_count": 40,
   "metadata": {},
   "outputs": [],
   "source": [
    "#firse I do falsification only respect to the observation noise  \n",
    "ob_noise_=0.1\n",
    "obse_noise = []\n",
    "falsification_obs_kalman = [] \n",
    "falsification_obs_only_noise = []\n",
    "flag_k = 1 \n",
    "flag_n=1"
   ]
  },
  {
   "cell_type": "code",
   "execution_count": 41,
   "metadata": {},
   "outputs": [
    {
     "name": "stdout",
     "output_type": "stream",
     "text": [
      "Max observation noise model without kalman filter =  2.400000000000001\n"
     ]
    }
   ],
   "source": [
    "for h in range(num_):\n",
    "    state = state_space_2[h]\n",
    "    state_1=deepcopy(state)\n",
    "    #state_2=deepcopy(state)\n",
    "    target = target_space[h]\n",
    "    #first verification with noise using a kalman filter \n",
    "    ob_noise_ +=0.1\n",
    "    \n",
    "    x1,y1,theta,t1,string,innovation,covariance = simulation(state,target,algo=2,sim=n_sim,obstacle=obstacle,path=actor_path,ob_noise=ob_noise_,p_noise=p_noise_)\n",
    "\n",
    "    xx = np.array(x1)\n",
    "    yy = np.array(y1)\n",
    "    signals = list(zip(xx,yy))\n",
    "    safetyMonitorResult = safetyMonitor.monitor(t,signals)\n",
    "    if flag_k==1: \n",
    "        if safetyMonitorResult[0][1]<0: \n",
    "            print(\"Max observation noise model with kalman filter = \",ob_noise_)\n",
    "            flag_k=0 \n",
    "    \n",
    "   # print(\"robustness kalman filter with \",ob_noise_,\" observation noise = \",safetyMonitorResult[0][1])\n",
    "    falsification_obs_kalman.append(round(safetyMonitorResult[0][1],3))\n",
    "    obse_noise.append(round(ob_noise_,3))\n",
    "    x,y,theta,t,string,innovation,covariance = simulation(state_1,target,algo=1,sim=n_sim,obstacle=obstacle,path=actor_path,ob_noise=ob_noise_,p_noise=p_noise_)\n",
    "    xx = np.array(x)\n",
    "    yy = np.array(y)\n",
    "    signals = list(zip(xx,yy))\n",
    "    safetyMonitorResult = safetyMonitor.monitor(t,signals)\n",
    "    if flag_n==1: \n",
    "        if safetyMonitorResult[0][1]<0: \n",
    "            print(\"Max observation noise model without kalman filter = \",ob_noise_)\n",
    "            flag_n=0 \n",
    "    \n",
    "   # print(\"robustness only noise with \",ob_noise_,\" observation_noise = \",safetyMonitorResult[0][1])\n",
    "    falsification_obs_only_noise.append(round(safetyMonitorResult[0][1],3))\n",
    "    \n",
    "    "
   ]
  },
  {
   "cell_type": "code",
   "execution_count": 42,
   "metadata": {},
   "outputs": [],
   "source": [
    "#animation_plot(x,y,target.x,target.y,obstacle.x,obstacle.y,file_name=\"animation_noise.gif\")"
   ]
  },
  {
   "cell_type": "code",
   "execution_count": 43,
   "metadata": {},
   "outputs": [],
   "source": [
    "file_1 = os.path.join(dir_path,\"falsif_obs_noise.txt\")"
   ]
  },
  {
   "cell_type": "code",
   "execution_count": 44,
   "metadata": {},
   "outputs": [],
   "source": [
    "with open(file_1,'w') as f: \n",
    "    f.write(\"noise\\tkalman rob\\tonly_noise_rob\\n\")\n",
    "    for i in range(len(obse_noise)):\n",
    "        f.write(str(obse_noise[i])+\"\\t\"+str(falsification_obs_kalman[i])+\"\\t\\t\"+str(falsification_obs_only_noise[i])+\"\\n\")\n",
    "        "
   ]
  },
  {
   "cell_type": "code",
   "execution_count": 45,
   "metadata": {},
   "outputs": [],
   "source": [
    "#falsification varying both process and observation noise "
   ]
  },
  {
   "cell_type": "code",
   "execution_count": 46,
   "metadata": {},
   "outputs": [],
   "source": [
    "ob_noise_= 0.1 \n",
    "p_noise_ = 0.01 "
   ]
  },
  {
   "cell_type": "code",
   "execution_count": 47,
   "metadata": {},
   "outputs": [],
   "source": [
    "obse_noise = []\n",
    "process_noise = []\n",
    "falsification_noise_kalman = [] \n",
    "falsification_noise_only_noise = []\n",
    "mean_kalman = [] \n",
    "mean_only_noise = []\n",
    "kalman_mean = []\n",
    "only_noise_mean = []\n",
    "flag_n = 1\n",
    "flag_k = 1"
   ]
  },
  {
   "cell_type": "code",
   "execution_count": 48,
   "metadata": {},
   "outputs": [
    {
     "name": "stdout",
     "output_type": "stream",
     "text": [
      "Max noise model without kalman filter: observation noise =  0.7 process noise =  0.07\n",
      "Max noise model with kalman filter: observation noise =  1.3 process noise =  0.12999999999999998\n"
     ]
    }
   ],
   "source": [
    "for s in range(40):\n",
    "    list_state = deepcopy(state_space_3)\n",
    "    ob_noise_ +=0.1\n",
    "    p_noise_+=0.01\n",
    "    for h in range(num_-1):\n",
    "        state = list_state[h]\n",
    "        state_1=deepcopy(state)\n",
    "    #state_2=deepcopy(state)\n",
    "        target = target_space[h]\n",
    "    #first verification with noise using a kalman filter \n",
    "    #ob_noise_ +=0.1\n",
    "    #p_noise_+=0.01\n",
    "        \n",
    "        x1,y1,theta,t1,string,innovation,covariance = simulation(state,target,algo=2,sim=n_sim,obstacle=obstacle,path=actor_path,ob_noise=ob_noise_,p_noise=p_noise_)\n",
    "        #print(string)\n",
    "        xx = np.array(x1)\n",
    "        yy = np.array(y1)\n",
    "        signals = list(zip(xx,yy))\n",
    "        safetyMonitorResult = safetyMonitor.monitor(t,signals)\n",
    "        if flag_k==1:\n",
    "            if(safetyMonitorResult[0][1])<0:\n",
    "                print(\"Max noise model with kalman filter: observation noise = \",ob_noise_,\"process noise = \",p_noise_)\n",
    "                flag_k=0\n",
    "        #print(\"robustness kalman filter with \",ob_noise_,\" observation noise = \",safetyMonitorResult[0][1])\n",
    "        falsification_noise_kalman.append(round(safetyMonitorResult[0][1],3))\n",
    "        #obse_noise.append(round(ob_noise_,3))\n",
    "        \n",
    "        x,y,theta,t,string,innovation,covariance = simulation(state_1,target,algo=1,sim=n_sim,obstacle=obstacle,path=actor_path,ob_noise=ob_noise_,p_noise=p_noise_)\n",
    "        xx = np.array(x)\n",
    "        yy = np.array(y)\n",
    "        signals = list(zip(xx,yy))\n",
    "        safetyMonitorResult = safetyMonitor.monitor(t,signals)\n",
    "        if flag_n==1:\n",
    "            if(safetyMonitorResult[0][1])<0:\n",
    "                flag_n=0\n",
    "                print(\"Max noise model without kalman filter: observation noise = \",ob_noise_,\"process noise = \",p_noise_)\n",
    "        #print(string)\n",
    "        #print(\"robustness only noise with \",ob_noise_,\" observation_noise = \",safetyMonitorResult[0][1])\n",
    "        falsification_noise_only_noise.append(round(safetyMonitorResult[0][1],3))\n",
    "    obse_noise.append(round(ob_noise_,3))\n",
    "    process_noise.append(round(p_noise_,3))\n",
    "    #mean_k = \n",
    "    kalman_mean.append(np.mean(np.asarray(falsification_noise_kalman[s])))\n",
    "    only_noise_mean.append(np.mean(np.asarray(falsification_noise_only_noise[s])))\n",
    "    \n",
    "    "
   ]
  },
  {
   "cell_type": "code",
   "execution_count": 49,
   "metadata": {},
   "outputs": [],
   "source": [
    "file_2 = os.path.join(dir_path,\"falsif_both_noises.txt\")"
   ]
  },
  {
   "cell_type": "code",
   "execution_count": 50,
   "metadata": {},
   "outputs": [],
   "source": [
    "with open(file_2,'w') as f: \n",
    "    f.write(\"ob_noise\\tpr_noise\\tkalman rob\\tonly_noise_rob\\n\")\n",
    "    for i in range(len(obse_noise)):\n",
    "        f.write(str(obse_noise[i])+\"\\t\\t\"+str(process_noise[i])+\"\\t\\t\"+str(falsification_obs_kalman[i])+\"\\t\\t\"+str(falsification_obs_only_noise[i])+\"\\n\")\n",
    "        "
   ]
  },
  {
   "cell_type": "code",
   "execution_count": null,
   "metadata": {},
   "outputs": [],
   "source": []
  },
  {
   "cell_type": "code",
   "execution_count": null,
   "metadata": {},
   "outputs": [],
   "source": []
  },
  {
   "cell_type": "code",
   "execution_count": 261,
   "metadata": {},
   "outputs": [],
   "source": [
    "np.random.seed(89)\n",
    "new_state = []\n",
    "new_obstacle = [] "
   ]
  },
  {
   "cell_type": "code",
   "execution_count": 262,
   "metadata": {},
   "outputs": [],
   "source": [
    "#property that the robot always reach the target within 800 steps(so befor time 80) and then stays there, when there is no obstacle \n",
    "#for the same reason as before, I've saved the target coordinate and vary the coordinate of the initial state \n",
    "#of the robot "
   ]
  },
  {
   "cell_type": "code",
   "execution_count": 263,
   "metadata": {},
   "outputs": [],
   "source": [
    "with open(\"target.pickle\",'rb') as f: \n",
    "    target :State = pickle.load(f)"
   ]
  },
  {
   "cell_type": "code",
   "execution_count": 264,
   "metadata": {},
   "outputs": [],
   "source": [
    "for i in range(num_ +1): \n",
    "    \n",
    "    while True: \n",
    "    \n",
    "        a = np.random.uniform(-40,40,2)\n",
    "        b = np.random.uniform(0,90,3)\n",
    "        spatial_state = State(a[0],a[1],np.radians(b[0]))        \n",
    "        if spatial_state.distance_form_state(target)>30:\n",
    "            \n",
    "            ox = (spatial_state.x +target.x)/2 \n",
    "            oy = (spatial_state.y +target.y)/2 \n",
    "            obstacle_ = State(ox,oy,np.radians(b[1]))\n",
    "            new_state.append(spatial_state)\n",
    "            new_obstacle.append(obstacle_)\n",
    "            break\n",
    "            "
   ]
  },
  {
   "cell_type": "code",
   "execution_count": 265,
   "metadata": {},
   "outputs": [],
   "source": [
    "new_state_2 = deepcopy(new_state)"
   ]
  },
  {
   "cell_type": "code",
   "execution_count": 266,
   "metadata": {},
   "outputs": [
    {
     "data": {
      "text/plain": [
       "31.015813915122948"
      ]
     },
     "execution_count": 266,
     "metadata": {},
     "output_type": "execute_result"
    }
   ],
   "source": [
    "\n",
    "\n",
    "target.x \n"
   ]
  },
  {
   "cell_type": "code",
   "execution_count": null,
   "metadata": {},
   "outputs": [],
   "source": []
  },
  {
   "cell_type": "code",
   "execution_count": 267,
   "metadata": {},
   "outputs": [
    {
     "data": {
      "text/plain": [
       "-13.868786212911786"
      ]
     },
     "execution_count": 267,
     "metadata": {},
     "output_type": "execute_result"
    }
   ],
   "source": [
    "target.y"
   ]
  },
  {
   "cell_type": "code",
   "execution_count": null,
   "metadata": {},
   "outputs": [],
   "source": []
  },
  {
   "cell_type": "code",
   "execution_count": 268,
   "metadata": {},
   "outputs": [],
   "source": [
    "script_reach = \"\"\"\n",
    "signal { real x; real y;}\n",
    "domain minmax; \n",
    "formula reach_t = {globally[80,120]((((x-31.01581)*(x-31.01581))+((y+13.86878)*(y+13.86878)))<0.3)};\n",
    "\"\"\""
   ]
  },
  {
   "cell_type": "code",
   "execution_count": 269,
   "metadata": {},
   "outputs": [],
   "source": [
    "moonlightScript = ScriptLoader.loadFromText(script_reach);\n",
    "reachMonitor = moonlightScript.getMonitor(\"reach_t\"); "
   ]
  },
  {
   "cell_type": "code",
   "execution_count": null,
   "metadata": {},
   "outputs": [],
   "source": []
  },
  {
   "cell_type": "code",
   "execution_count": 270,
   "metadata": {},
   "outputs": [],
   "source": [
    "ob_noise_ = 0.5"
   ]
  },
  {
   "cell_type": "code",
   "execution_count": 271,
   "metadata": {},
   "outputs": [],
   "source": [
    "p_noise_ = 0.05"
   ]
  },
  {
   "cell_type": "code",
   "execution_count": 272,
   "metadata": {},
   "outputs": [],
   "source": [
    "robustness_kalman = [] \n",
    "robustness_only_noise=[]"
   ]
  },
  {
   "cell_type": "code",
   "execution_count": 273,
   "metadata": {},
   "outputs": [],
   "source": [
    "for h in range(num_):\n",
    "    state = new_state[h]\n",
    "    state_1 = deepcopy(state)\n",
    "    #state_1=deepcopy(state)\n",
    "    #state_2=deepcopy(state)\n",
    "    #target = target_space[h]\n",
    "    #first verification with noise using a kalman filter \n",
    "    x,y,theta,t,string,innovation,covariance = simulation(state,target,algo=2,sim=n_sim,obstacle=obstacle,path=actor_path,ob_noise=ob_noise_,p_noise=p_noise_)\n",
    "    xx = np.array(x)\n",
    "    yy = np.array(y)\n",
    "    signals = list(zip(xx,yy))\n",
    "    reachMonitorResult_1 = reachMonitor.monitor(t,signals)\n",
    "    \n",
    "    #print(\"robustness kalman filter \",reachMonitorResult_1[0][1])\n",
    "    robustness_kalman.append(round(reachMonitorResult_1[0][1],3))\n",
    "    \n",
    "    x,y,theta,t,string,innovation,covariance = simulation(state_1,target,algo=1,sim=n_sim,obstacle=obstacle,path=actor_path,ob_noise=ob_noise_,p_noise=p_noise_)\n",
    "    \n",
    "    xx = np.array(x)\n",
    "    yy = np.array(y)\n",
    "    signals = list(zip(xx,yy))\n",
    "    reachMonitorResult_2 = reachMonitor.monitor(t,signals)\n",
    "    #print(\"robustness only noise \",safetyMonitorResult[0][1])\n",
    "    robustness_only_noise.append(round(reachMonitorResult_2[0][1],3))\n",
    "    \n",
    "  "
   ]
  },
  {
   "cell_type": "code",
   "execution_count": 274,
   "metadata": {},
   "outputs": [
    {
     "data": {
      "text/plain": [
       "0.03072500000000001"
      ]
     },
     "execution_count": 274,
     "metadata": {},
     "output_type": "execute_result"
    }
   ],
   "source": [
    "kalman_mean = np.mean(np.asarray(robustness_kalman))\n",
    "kalman_mean "
   ]
  },
  {
   "cell_type": "code",
   "execution_count": 275,
   "metadata": {},
   "outputs": [
    {
     "data": {
      "text/plain": [
       "0.064675"
      ]
     },
     "execution_count": 275,
     "metadata": {},
     "output_type": "execute_result"
    }
   ],
   "source": [
    "only_noise_mean = np.mean(np.asarray(robustness_only_noise))\n",
    "only_noise_mean"
   ]
  },
  {
   "cell_type": "code",
   "execution_count": null,
   "metadata": {},
   "outputs": [],
   "source": []
  },
  {
   "cell_type": "code",
   "execution_count": 276,
   "metadata": {},
   "outputs": [],
   "source": [
    "req_reach_t = os.path.join(dir_path,\"req_reach_target.txt\")\n",
    "with open(req_reach_t,'w') as f: \n",
    "    f.write(\"Robustness of the model with process noise 0.05 and observation noise 0.5\\n\")\n",
    "    f.write(\"kalman_rob\\tonly_noise_rob\\n\")  \n",
    "    for i in range(num_):\n",
    "        f.write(str(robustness_kalman[i])+\"\\t\\t\"+str(robustness_only_noise[i])+\"\\n\")\n",
    " "
   ]
  },
  {
   "cell_type": "code",
   "execution_count": 277,
   "metadata": {},
   "outputs": [],
   "source": [
    "#requirement reach the target at time 100 with obstacle \n",
    "rob_kalman = []\n",
    "rob_only_noise = [] \n"
   ]
  },
  {
   "cell_type": "code",
   "execution_count": 278,
   "metadata": {},
   "outputs": [],
   "source": [
    "script_reach_with_ob = \"\"\"\n",
    "signal { real x; real y;}\n",
    "domain minmax; \n",
    "formula reach_with_ob = {globally[100,120]((((x-31.01581)*(x-31.01581))+((y+13.86878)*(y+13.86878)))<0.3)};\n",
    "\"\"\""
   ]
  },
  {
   "cell_type": "code",
   "execution_count": 279,
   "metadata": {},
   "outputs": [],
   "source": [
    "moonlightScript = ScriptLoader.loadFromText(script_reach_with_ob);\n",
    "reachMonitor = moonlightScript.getMonitor(\"reach_with_ob\"); "
   ]
  },
  {
   "cell_type": "code",
   "execution_count": 280,
   "metadata": {},
   "outputs": [],
   "source": [
    "for h in range(num_):\n",
    "    state = new_state_2[h]\n",
    "    state_1= deepcopy(state)\n",
    "    obstacle_ = new_obstacle[h]\n",
    " \n",
    "    x,y,theta,t,string,innovation,covariance = simulation(state,target,algo=2,sim=n_sim,obstacle=obstacle_,path=actor_path,ob_noise=ob_noise_,p_noise=p_noise_)\n",
    "    xx = np.array(x)\n",
    "    yy = np.array(y)\n",
    "    signals = list(zip(xx,yy))\n",
    "    reachMonitorResult_1 = reachMonitor.monitor(t,signals)\n",
    "    rob_kalman.append(round(reachMonitorResult_1[0][1],3))\n",
    "    \n",
    "    x,y,theta,t,string,innovation,covariance = simulation(state_1,target,algo=1,sim=n_sim,obstacle=obstacle_,path=actor_path,ob_noise=ob_noise_,p_noise=p_noise_)\n",
    "    xx = np.array(x)\n",
    "    yy = np.array(y)\n",
    "    signals = list(zip(xx,yy))\n",
    "    reachMonitorResult_2 = reachMonitor.monitor(t,signals)\n",
    "    rob_only_noise.append(round(reachMonitorResult_2[0][1],3))\n",
    "\n",
    "    \n",
    "    "
   ]
  },
  {
   "cell_type": "code",
   "execution_count": 281,
   "metadata": {},
   "outputs": [],
   "source": [
    "req_reach_with_ob = os.path.join(dir_path,\"req_reach_target_with_ob.txt\")\n",
    "with open(req_reach_with_ob,'w') as f: \n",
    "    f.write(\"Robustness of the model with process noise 0.05 and observation noise 0.5\\n\")\n",
    "    f.write(\"kalman_rob\\tonly_noise_rob\\n\")  \n",
    "    for i in range(num_):\n",
    "        f.write(str(rob_kalman[i])+\"\\t\\t\"+str(rob_only_noise[i])+\"\\n\")\n",
    " "
   ]
  },
  {
   "cell_type": "code",
   "execution_count": 282,
   "metadata": {},
   "outputs": [
    {
     "data": {
      "text/plain": [
       "0.05142500000000001"
      ]
     },
     "execution_count": 282,
     "metadata": {},
     "output_type": "execute_result"
    }
   ],
   "source": [
    "mean_only_noise = np.mean(np.asarray(rob_only_noise))\n",
    "mean_only_noise "
   ]
  },
  {
   "cell_type": "code",
   "execution_count": 283,
   "metadata": {},
   "outputs": [
    {
     "data": {
      "text/plain": [
       "0.047025"
      ]
     },
     "execution_count": 283,
     "metadata": {},
     "output_type": "execute_result"
    }
   ],
   "source": [
    "mean_kalman = np.mean(np.asarray(rob_kalman)) \n",
    "mean_kalman"
   ]
  },
  {
   "cell_type": "code",
   "execution_count": null,
   "metadata": {},
   "outputs": [],
   "source": []
  },
  {
   "cell_type": "code",
   "execution_count": null,
   "metadata": {},
   "outputs": [],
   "source": []
  }
 ],
 "metadata": {
  "kernelspec": {
   "display_name": "Python 3",
   "language": "python",
   "name": "python3"
  },
  "language_info": {
   "codemirror_mode": {
    "name": "ipython",
    "version": 3
   },
   "file_extension": ".py",
   "mimetype": "text/x-python",
   "name": "python",
   "nbconvert_exporter": "python",
   "pygments_lexer": "ipython3",
   "version": "3.8.10"
  }
 },
 "nbformat": 4,
 "nbformat_minor": 4
}
